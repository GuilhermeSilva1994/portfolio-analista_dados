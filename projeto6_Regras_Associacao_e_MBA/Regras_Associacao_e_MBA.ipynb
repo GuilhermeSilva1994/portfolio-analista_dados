{
 "cells": [
  {
   "cell_type": "code",
   "execution_count": 81,
   "id": "c3758b4e-ca4b-4a94-8eba-b3ec543397d4",
   "metadata": {},
   "outputs": [],
   "source": [
    "# importando as bibliotecas\n",
    "import pandas as pd\n",
    "import numpy as np\n",
    "import matplotlib.pyplot as plt\n",
    "from datetime import datetime\n",
    "from itertools import combinations\n",
    "from efficient_apriori import apriori\n",
    "from tqdm import tqdm\n",
    "import warnings\n",
    "import os\n",
    "import ast\n",
    "warnings.filterwarnings('ignore')\n"
   ]
  },
  {
   "cell_type": "code",
   "execution_count": 82,
   "id": "c8c912d7-4281-44cb-86f4-8235ad8b8ea8",
   "metadata": {},
   "outputs": [
    {
     "name": "stdout",
     "output_type": "stream",
     "text": [
      "Author: Guilherme\n",
      "\n",
      "missingno        : 0.5.2\n",
      "numpy            : 1.26.4\n",
      "tqdm             : 4.66.5\n",
      "efficient_apriori: 2.0.6\n",
      "matplotlib       : 3.9.2\n",
      "pandas           : 2.2.2\n",
      "\n"
     ]
    }
   ],
   "source": [
    "%reload_ext watermark\n",
    "%watermark -a \"Guilherme\"\n",
    "%watermark --iversion"
   ]
  },
  {
   "cell_type": "code",
   "execution_count": 20,
   "id": "14071c5b-9873-4c14-8f8b-d6b8553b6d41",
   "metadata": {},
   "outputs": [],
   "source": [
    "# Função para facilitar a criação de alguns gráficos\n",
    "def cria_graficos(dados, titulo:str, xlabel:str):\n",
    "\n",
    "        '''\n",
    "    Gera um gráfico de barras horizontal com base nos dados fornecidos.\n",
    "\n",
    "    Esta função cria uma visualização simples usando `matplotlib`, ideal para \n",
    "    representar distribuições ou frequências de categorias.\n",
    "\n",
    "    Parametros:\n",
    "    ----------\n",
    "        dados (pd.Series): Série do pandas contendo os dados a serem plotados. \n",
    "            Os índices serão usados como categorias no eixo x e os valores como altura das barras.\n",
    "        titulo (str): Título do gráfico.\n",
    "        xlabel (str): Rótulo do eixo x.\n",
    "\n",
    "    Resultado:\n",
    "    ----------\n",
    "        Um gráfico de barras com os dados fornecidos.\n",
    "    '''\n",
    "    plt.figure(figsize=(14,4))\n",
    "    plt.bar(dados.index, dados.values)\n",
    "    plt.title(titulo)\n",
    "    plt.xlabel(xlabel)\n",
    "    plt.xticks(rotation =90)\n",
    "    plt.show()"
   ]
  },
  {
   "cell_type": "markdown",
   "id": "406254c1-6759-4c55-b7d3-213789f23ecb",
   "metadata": {},
   "source": [
    "# Importando as bases"
   ]
  },
  {
   "cell_type": "code",
   "execution_count": 72,
   "id": "a2f0ae06-1254-46a9-8a57-504c7dbd6e9d",
   "metadata": {},
   "outputs": [
    {
     "name": "stderr",
     "output_type": "stream",
     "text": [
      "  0%|\u001b[32m                                                                                                                                                                                     \u001b[0m| 0/6 [00:00<?, ?it/s]\u001b[0m"
     ]
    },
    {
     "name": "stdout",
     "output_type": "stream",
     "text": [
      "Arquivo dados_corredores importado com sucesso\n",
      "Arquivo dados_departamentos importado com sucesso\n"
     ]
    },
    {
     "name": "stderr",
     "output_type": "stream",
     "text": [
      " 50%|\u001b[32m██████████████████████████████████████████████████████████████████████████████████████▌                                                                                      \u001b[0m| 3/6 [00:02<00:02,  1.50it/s]\u001b[0m"
     ]
    },
    {
     "name": "stdout",
     "output_type": "stream",
     "text": [
      "Arquivo dados_pedidos importado com sucesso\n",
      "Arquivo dados_produtos importado com sucesso\n"
     ]
    },
    {
     "name": "stderr",
     "output_type": "stream",
     "text": [
      " 83%|\u001b[32m████████████████████████████████████████████████████████████████████████████████████████████████████████████████████████████████████████████████▏                            \u001b[0m| 5/6 [00:11<00:02,  2.62s/it]\u001b[0m"
     ]
    },
    {
     "name": "stdout",
     "output_type": "stream",
     "text": [
      "Arquivo dados_transacoes importado com sucesso\n"
     ]
    },
    {
     "name": "stderr",
     "output_type": "stream",
     "text": [
      "100%|\u001b[32m█████████████████████████████████████████████████████████████████████████████████████████████████████████████████████████████████████████████████████████████████████████████\u001b[0m| 6/6 [00:17<00:00,  2.85s/it]\u001b[0m"
     ]
    },
    {
     "name": "stdout",
     "output_type": "stream",
     "text": [
      "Arquivo dados_transacoes_mba importado com sucesso\n"
     ]
    },
    {
     "name": "stderr",
     "output_type": "stream",
     "text": [
      "\n"
     ]
    }
   ],
   "source": [
    "# Importando todos os arquivos csv de uma só vez\n",
    "\n",
    "# Caminho da pasta onde estão os arquivos CSV\n",
    "pasta_csv = os.getcwd() \n",
    "\n",
    "# Lista todos os arquivos CSV na pasta\n",
    "arquivos_csv = [arquivo for arquivo in os.listdir(pasta_csv) if arquivo.endswith('.csv')]\n",
    "\n",
    "# Loop para importar e criar variáveis dinamicamente\n",
    "for arquivo in tqdm(arquivos_csv, colour ='green'):\n",
    "    nome_base = os.path.splitext(arquivo)[0]  # remove a extensão .csv\n",
    "    nome_variavel = f'dados_{nome_base}'\n",
    "    caminho_completo = os.path.join(pasta_csv, arquivo)\n",
    "    globals()[nome_variavel] = pd.read_csv(caminho_completo)\n",
    "\n",
    "    print(f'Arquivo {nome_variavel} importado com sucesso')\n"
   ]
  },
  {
   "cell_type": "markdown",
   "id": "02fdd938-863c-44e3-a5d0-80df8e5b4b80",
   "metadata": {},
   "source": [
    "# Análise exploratória dos dados"
   ]
  },
  {
   "cell_type": "code",
   "execution_count": 34,
   "id": "b176cfc8-10fc-48e3-8ed5-7def7b911085",
   "metadata": {},
   "outputs": [],
   "source": [
    "# Função para identificar duplicados em cada coluna\n",
    "\n",
    "def verifica_duplicados(df,col):\n",
    "\n",
    "        '''\n",
    "        Realiza a contagem de valores ausentes\n",
    "\n",
    "        Parâmetros: \n",
    "        ----------\n",
    "        df: dataframe que está sendo trabalhado\n",
    "        col: Coluna desejada para verificação\n",
    "\n",
    "        Retorna:\n",
    "        ----------\n",
    "        contagem: Quantidade de valores ausentes do DataFrame:\n",
    "        '''\n",
    "\n",
    "    return df.duplicated(col).value_counts()\n"
   ]
  },
  {
   "cell_type": "code",
   "execution_count": 35,
   "id": "fce54525-6537-4210-8d1f-a54b1f32da51",
   "metadata": {},
   "outputs": [],
   "source": [
    "# Total de registros por dataset\n",
    "conta_arrays = np.array([\n",
    "                        ['dados_departamentos',len(dados_departamentos),dados_departamentos.shape[1]],\n",
    "                        ['dados_corredores',len(dados_corredores),dados_corredores.shape[1]],\n",
    "                        ['dados_produtos',len(dados_produtos),dados_produtos.shape[1]],\n",
    "                        ['dados_pedidos',len(dados_pedidos ), dados_pedidos.shape[1]],\n",
    "                        ['dados_transacoes',len(dados_transacoes), dados_transacoes.shape[1]]            \n",
    "                        ])"
   ]
  },
  {
   "cell_type": "code",
   "execution_count": 36,
   "id": "c998b835-48e0-4ce1-9441-12f107af4248",
   "metadata": {},
   "outputs": [],
   "source": [
    "# Converte o array em um dataframe\n",
    "contagem = pd.DataFrame(conta_arrays, columns=['Arquivo','Total de registros','Total de colunas'], index=None)"
   ]
  },
  {
   "cell_type": "code",
   "execution_count": 37,
   "id": "46b6ff58-a108-4ac5-9602-832c1a3913aa",
   "metadata": {},
   "outputs": [
    {
     "data": {
      "text/html": [
       "<div>\n",
       "<style scoped>\n",
       "    .dataframe tbody tr th:only-of-type {\n",
       "        vertical-align: middle;\n",
       "    }\n",
       "\n",
       "    .dataframe tbody tr th {\n",
       "        vertical-align: top;\n",
       "    }\n",
       "\n",
       "    .dataframe thead th {\n",
       "        text-align: right;\n",
       "    }\n",
       "</style>\n",
       "<table border=\"1\" class=\"dataframe\">\n",
       "  <thead>\n",
       "    <tr style=\"text-align: right;\">\n",
       "      <th></th>\n",
       "      <th>Arquivo</th>\n",
       "      <th>Total de registros</th>\n",
       "      <th>Total de colunas</th>\n",
       "    </tr>\n",
       "  </thead>\n",
       "  <tbody>\n",
       "    <tr>\n",
       "      <th>0</th>\n",
       "      <td>dados_departamentos</td>\n",
       "      <td>21</td>\n",
       "      <td>2</td>\n",
       "    </tr>\n",
       "    <tr>\n",
       "      <th>1</th>\n",
       "      <td>dados_corredores</td>\n",
       "      <td>134</td>\n",
       "      <td>2</td>\n",
       "    </tr>\n",
       "    <tr>\n",
       "      <th>2</th>\n",
       "      <td>dados_produtos</td>\n",
       "      <td>49688</td>\n",
       "      <td>4</td>\n",
       "    </tr>\n",
       "    <tr>\n",
       "      <th>3</th>\n",
       "      <td>dados_pedidos</td>\n",
       "      <td>3421083</td>\n",
       "      <td>7</td>\n",
       "    </tr>\n",
       "    <tr>\n",
       "      <th>4</th>\n",
       "      <td>dados_transacoes</td>\n",
       "      <td>3214874</td>\n",
       "      <td>3</td>\n",
       "    </tr>\n",
       "  </tbody>\n",
       "</table>\n",
       "</div>"
      ],
      "text/plain": [
       "               Arquivo Total de registros Total de colunas\n",
       "0  dados_departamentos                 21                2\n",
       "1     dados_corredores                134                2\n",
       "2       dados_produtos              49688                4\n",
       "3        dados_pedidos            3421083                7\n",
       "4     dados_transacoes            3214874                3"
      ]
     },
     "execution_count": 37,
     "metadata": {},
     "output_type": "execute_result"
    }
   ],
   "source": [
    "# Resultado\n",
    "contagem"
   ]
  },
  {
   "cell_type": "markdown",
   "id": "1e349f9b-b875-4e27-ad54-efbcd5318a09",
   "metadata": {},
   "source": [
    "### Analisando o arquivo departamento"
   ]
  },
  {
   "cell_type": "code",
   "execution_count": 38,
   "id": "5ea2dbf4-5ddd-4e8b-ac4a-07ea3f25955e",
   "metadata": {},
   "outputs": [
    {
     "data": {
      "text/html": [
       "<div>\n",
       "<style scoped>\n",
       "    .dataframe tbody tr th:only-of-type {\n",
       "        vertical-align: middle;\n",
       "    }\n",
       "\n",
       "    .dataframe tbody tr th {\n",
       "        vertical-align: top;\n",
       "    }\n",
       "\n",
       "    .dataframe thead th {\n",
       "        text-align: right;\n",
       "    }\n",
       "</style>\n",
       "<table border=\"1\" class=\"dataframe\">\n",
       "  <thead>\n",
       "    <tr style=\"text-align: right;\">\n",
       "      <th></th>\n",
       "      <th>department_id</th>\n",
       "      <th>department</th>\n",
       "    </tr>\n",
       "  </thead>\n",
       "  <tbody>\n",
       "    <tr>\n",
       "      <th>0</th>\n",
       "      <td>1</td>\n",
       "      <td>frozen</td>\n",
       "    </tr>\n",
       "    <tr>\n",
       "      <th>1</th>\n",
       "      <td>2</td>\n",
       "      <td>other</td>\n",
       "    </tr>\n",
       "    <tr>\n",
       "      <th>2</th>\n",
       "      <td>3</td>\n",
       "      <td>bakery</td>\n",
       "    </tr>\n",
       "    <tr>\n",
       "      <th>3</th>\n",
       "      <td>4</td>\n",
       "      <td>produce</td>\n",
       "    </tr>\n",
       "    <tr>\n",
       "      <th>4</th>\n",
       "      <td>5</td>\n",
       "      <td>alcohol</td>\n",
       "    </tr>\n",
       "  </tbody>\n",
       "</table>\n",
       "</div>"
      ],
      "text/plain": [
       "   department_id department\n",
       "0              1     frozen\n",
       "1              2      other\n",
       "2              3     bakery\n",
       "3              4    produce\n",
       "4              5    alcohol"
      ]
     },
     "execution_count": 38,
     "metadata": {},
     "output_type": "execute_result"
    }
   ],
   "source": [
    "dados_departamentos.head()"
   ]
  },
  {
   "cell_type": "code",
   "execution_count": 39,
   "id": "9fefeffa-2424-4770-bbb6-5051ee31e629",
   "metadata": {},
   "outputs": [
    {
     "data": {
      "text/plain": [
       "False    21\n",
       "Name: count, dtype: int64"
      ]
     },
     "execution_count": 39,
     "metadata": {},
     "output_type": "execute_result"
    }
   ],
   "source": [
    "# Verificando se possui departamentos duplicados\n",
    "verifica_duplicados(dados_departamentos,'department')"
   ]
  },
  {
   "cell_type": "markdown",
   "id": "da41da2f-5742-4351-9818-fef844cbd887",
   "metadata": {},
   "source": [
    "### Analisando o arquivo corredores"
   ]
  },
  {
   "cell_type": "code",
   "execution_count": 40,
   "id": "a2da5c73-83c9-4176-9766-2ec554237a74",
   "metadata": {},
   "outputs": [
    {
     "data": {
      "text/html": [
       "<div>\n",
       "<style scoped>\n",
       "    .dataframe tbody tr th:only-of-type {\n",
       "        vertical-align: middle;\n",
       "    }\n",
       "\n",
       "    .dataframe tbody tr th {\n",
       "        vertical-align: top;\n",
       "    }\n",
       "\n",
       "    .dataframe thead th {\n",
       "        text-align: right;\n",
       "    }\n",
       "</style>\n",
       "<table border=\"1\" class=\"dataframe\">\n",
       "  <thead>\n",
       "    <tr style=\"text-align: right;\">\n",
       "      <th></th>\n",
       "      <th>aisle_id</th>\n",
       "      <th>aisle</th>\n",
       "    </tr>\n",
       "  </thead>\n",
       "  <tbody>\n",
       "    <tr>\n",
       "      <th>0</th>\n",
       "      <td>1</td>\n",
       "      <td>prepared soups salads</td>\n",
       "    </tr>\n",
       "    <tr>\n",
       "      <th>1</th>\n",
       "      <td>2</td>\n",
       "      <td>specialty cheeses</td>\n",
       "    </tr>\n",
       "    <tr>\n",
       "      <th>2</th>\n",
       "      <td>3</td>\n",
       "      <td>energy granola bars</td>\n",
       "    </tr>\n",
       "    <tr>\n",
       "      <th>3</th>\n",
       "      <td>4</td>\n",
       "      <td>instant foods</td>\n",
       "    </tr>\n",
       "    <tr>\n",
       "      <th>4</th>\n",
       "      <td>5</td>\n",
       "      <td>marinades meat preparation</td>\n",
       "    </tr>\n",
       "  </tbody>\n",
       "</table>\n",
       "</div>"
      ],
      "text/plain": [
       "   aisle_id                       aisle\n",
       "0         1       prepared soups salads\n",
       "1         2           specialty cheeses\n",
       "2         3         energy granola bars\n",
       "3         4               instant foods\n",
       "4         5  marinades meat preparation"
      ]
     },
     "execution_count": 40,
     "metadata": {},
     "output_type": "execute_result"
    }
   ],
   "source": [
    "dados_corredores.head()"
   ]
  },
  {
   "cell_type": "code",
   "execution_count": 41,
   "id": "a76cbabd-7396-4298-b81c-ec7e318af8a0",
   "metadata": {},
   "outputs": [
    {
     "data": {
      "text/plain": [
       "False    134\n",
       "Name: count, dtype: int64"
      ]
     },
     "execution_count": 41,
     "metadata": {},
     "output_type": "execute_result"
    }
   ],
   "source": [
    "# Verificando se possui corredores duplicados\n",
    "verifica_duplicados(dados_corredores,'aisle')"
   ]
  },
  {
   "cell_type": "markdown",
   "id": "06a695f4-f551-4a97-91af-3548d4e9cb3f",
   "metadata": {},
   "source": [
    "### Analisando o arquivo produtos"
   ]
  },
  {
   "cell_type": "code",
   "execution_count": 42,
   "id": "60f6e643-a71b-452a-96ff-d81b513c8dc5",
   "metadata": {},
   "outputs": [
    {
     "data": {
      "text/html": [
       "<div>\n",
       "<style scoped>\n",
       "    .dataframe tbody tr th:only-of-type {\n",
       "        vertical-align: middle;\n",
       "    }\n",
       "\n",
       "    .dataframe tbody tr th {\n",
       "        vertical-align: top;\n",
       "    }\n",
       "\n",
       "    .dataframe thead th {\n",
       "        text-align: right;\n",
       "    }\n",
       "</style>\n",
       "<table border=\"1\" class=\"dataframe\">\n",
       "  <thead>\n",
       "    <tr style=\"text-align: right;\">\n",
       "      <th></th>\n",
       "      <th>product_id</th>\n",
       "      <th>product_name</th>\n",
       "      <th>aisle_id</th>\n",
       "      <th>department_id</th>\n",
       "    </tr>\n",
       "  </thead>\n",
       "  <tbody>\n",
       "    <tr>\n",
       "      <th>0</th>\n",
       "      <td>1</td>\n",
       "      <td>Chocolate Sandwich Cookies</td>\n",
       "      <td>61</td>\n",
       "      <td>19</td>\n",
       "    </tr>\n",
       "    <tr>\n",
       "      <th>1</th>\n",
       "      <td>2</td>\n",
       "      <td>All-Seasons Salt</td>\n",
       "      <td>104</td>\n",
       "      <td>13</td>\n",
       "    </tr>\n",
       "    <tr>\n",
       "      <th>2</th>\n",
       "      <td>3</td>\n",
       "      <td>Robust Golden Unsweetened Oolong Tea</td>\n",
       "      <td>94</td>\n",
       "      <td>7</td>\n",
       "    </tr>\n",
       "    <tr>\n",
       "      <th>3</th>\n",
       "      <td>4</td>\n",
       "      <td>Smart Ones Classic Favorites Mini Rigatoni Wit...</td>\n",
       "      <td>38</td>\n",
       "      <td>1</td>\n",
       "    </tr>\n",
       "    <tr>\n",
       "      <th>4</th>\n",
       "      <td>5</td>\n",
       "      <td>Green Chile Anytime Sauce</td>\n",
       "      <td>5</td>\n",
       "      <td>13</td>\n",
       "    </tr>\n",
       "  </tbody>\n",
       "</table>\n",
       "</div>"
      ],
      "text/plain": [
       "   product_id                                       product_name  aisle_id  \\\n",
       "0           1                         Chocolate Sandwich Cookies        61   \n",
       "1           2                                   All-Seasons Salt       104   \n",
       "2           3               Robust Golden Unsweetened Oolong Tea        94   \n",
       "3           4  Smart Ones Classic Favorites Mini Rigatoni Wit...        38   \n",
       "4           5                          Green Chile Anytime Sauce         5   \n",
       "\n",
       "   department_id  \n",
       "0             19  \n",
       "1             13  \n",
       "2              7  \n",
       "3              1  \n",
       "4             13  "
      ]
     },
     "execution_count": 42,
     "metadata": {},
     "output_type": "execute_result"
    }
   ],
   "source": [
    "dados_produtos.head()"
   ]
  },
  {
   "cell_type": "code",
   "execution_count": 43,
   "id": "2de199f8-b368-4e95-b9ee-b6f9c911c3be",
   "metadata": {},
   "outputs": [
    {
     "data": {
      "text/plain": [
       "False    49688\n",
       "Name: count, dtype: int64"
      ]
     },
     "execution_count": 43,
     "metadata": {},
     "output_type": "execute_result"
    }
   ],
   "source": [
    "# Verificando se possui produtos duplicados\n",
    "verifica_duplicados(dados_produtos,'product_name')"
   ]
  },
  {
   "cell_type": "markdown",
   "id": "3f911e75-d9b2-4513-a181-d24a2f910ca3",
   "metadata": {},
   "source": [
    "### Analisando o arquivo pedidos"
   ]
  },
  {
   "cell_type": "code",
   "execution_count": 73,
   "id": "0184b77c-ddcf-4d99-b7c3-34bd2e7b0609",
   "metadata": {},
   "outputs": [
    {
     "data": {
      "text/html": [
       "<div>\n",
       "<style scoped>\n",
       "    .dataframe tbody tr th:only-of-type {\n",
       "        vertical-align: middle;\n",
       "    }\n",
       "\n",
       "    .dataframe tbody tr th {\n",
       "        vertical-align: top;\n",
       "    }\n",
       "\n",
       "    .dataframe thead th {\n",
       "        text-align: right;\n",
       "    }\n",
       "</style>\n",
       "<table border=\"1\" class=\"dataframe\">\n",
       "  <thead>\n",
       "    <tr style=\"text-align: right;\">\n",
       "      <th></th>\n",
       "      <th>order_id</th>\n",
       "      <th>user_id</th>\n",
       "      <th>eval_set</th>\n",
       "      <th>order_number</th>\n",
       "      <th>order_dow</th>\n",
       "      <th>order_hour_of_day</th>\n",
       "      <th>days_since_prior_order</th>\n",
       "    </tr>\n",
       "  </thead>\n",
       "  <tbody>\n",
       "    <tr>\n",
       "      <th>3421078</th>\n",
       "      <td>2266710</td>\n",
       "      <td>206209</td>\n",
       "      <td>prior</td>\n",
       "      <td>10</td>\n",
       "      <td>5</td>\n",
       "      <td>18</td>\n",
       "      <td>29.0</td>\n",
       "    </tr>\n",
       "    <tr>\n",
       "      <th>3421079</th>\n",
       "      <td>1854736</td>\n",
       "      <td>206209</td>\n",
       "      <td>prior</td>\n",
       "      <td>11</td>\n",
       "      <td>4</td>\n",
       "      <td>10</td>\n",
       "      <td>30.0</td>\n",
       "    </tr>\n",
       "    <tr>\n",
       "      <th>3421080</th>\n",
       "      <td>626363</td>\n",
       "      <td>206209</td>\n",
       "      <td>prior</td>\n",
       "      <td>12</td>\n",
       "      <td>1</td>\n",
       "      <td>12</td>\n",
       "      <td>18.0</td>\n",
       "    </tr>\n",
       "    <tr>\n",
       "      <th>3421081</th>\n",
       "      <td>2977660</td>\n",
       "      <td>206209</td>\n",
       "      <td>prior</td>\n",
       "      <td>13</td>\n",
       "      <td>1</td>\n",
       "      <td>12</td>\n",
       "      <td>7.0</td>\n",
       "    </tr>\n",
       "    <tr>\n",
       "      <th>3421082</th>\n",
       "      <td>272231</td>\n",
       "      <td>206209</td>\n",
       "      <td>train</td>\n",
       "      <td>14</td>\n",
       "      <td>6</td>\n",
       "      <td>14</td>\n",
       "      <td>30.0</td>\n",
       "    </tr>\n",
       "  </tbody>\n",
       "</table>\n",
       "</div>"
      ],
      "text/plain": [
       "         order_id  user_id eval_set  order_number  order_dow  \\\n",
       "3421078   2266710   206209    prior            10          5   \n",
       "3421079   1854736   206209    prior            11          4   \n",
       "3421080    626363   206209    prior            12          1   \n",
       "3421081   2977660   206209    prior            13          1   \n",
       "3421082    272231   206209    train            14          6   \n",
       "\n",
       "         order_hour_of_day  days_since_prior_order  \n",
       "3421078                 18                    29.0  \n",
       "3421079                 10                    30.0  \n",
       "3421080                 12                    18.0  \n",
       "3421081                 12                     7.0  \n",
       "3421082                 14                    30.0  "
      ]
     },
     "execution_count": 73,
     "metadata": {},
     "output_type": "execute_result"
    }
   ],
   "source": [
    "dados_pedidos.tail()"
   ]
  },
  {
   "cell_type": "code",
   "execution_count": 45,
   "id": "35ca0059-b793-4a25-915f-4cb1f402284d",
   "metadata": {},
   "outputs": [
    {
     "data": {
      "text/plain": [
       "False    3421083\n",
       "Name: count, dtype: int64"
      ]
     },
     "execution_count": 45,
     "metadata": {},
     "output_type": "execute_result"
    }
   ],
   "source": [
    "verifica_duplicados(dados_pedidos, 'order_id')"
   ]
  },
  {
   "cell_type": "markdown",
   "id": "db8647bb-41db-4165-a590-12aa041acc08",
   "metadata": {},
   "source": [
    "### Analisando o arquivo de transações"
   ]
  },
  {
   "cell_type": "code",
   "execution_count": 74,
   "id": "bef550a6-dfff-4751-b4a2-7c6aad4591a1",
   "metadata": {},
   "outputs": [
    {
     "data": {
      "text/html": [
       "<div>\n",
       "<style scoped>\n",
       "    .dataframe tbody tr th:only-of-type {\n",
       "        vertical-align: middle;\n",
       "    }\n",
       "\n",
       "    .dataframe tbody tr th {\n",
       "        vertical-align: top;\n",
       "    }\n",
       "\n",
       "    .dataframe thead th {\n",
       "        text-align: right;\n",
       "    }\n",
       "</style>\n",
       "<table border=\"1\" class=\"dataframe\">\n",
       "  <thead>\n",
       "    <tr style=\"text-align: right;\">\n",
       "      <th></th>\n",
       "      <th>order_id</th>\n",
       "      <th>product_id</th>\n",
       "      <th>add_to_cart_order</th>\n",
       "      <th>reordered</th>\n",
       "    </tr>\n",
       "  </thead>\n",
       "  <tbody>\n",
       "    <tr>\n",
       "      <th>0</th>\n",
       "      <td>2</td>\n",
       "      <td>33120</td>\n",
       "      <td>1</td>\n",
       "      <td>1</td>\n",
       "    </tr>\n",
       "    <tr>\n",
       "      <th>1</th>\n",
       "      <td>2</td>\n",
       "      <td>28985</td>\n",
       "      <td>2</td>\n",
       "      <td>1</td>\n",
       "    </tr>\n",
       "    <tr>\n",
       "      <th>2</th>\n",
       "      <td>2</td>\n",
       "      <td>9327</td>\n",
       "      <td>3</td>\n",
       "      <td>0</td>\n",
       "    </tr>\n",
       "    <tr>\n",
       "      <th>3</th>\n",
       "      <td>2</td>\n",
       "      <td>45918</td>\n",
       "      <td>4</td>\n",
       "      <td>1</td>\n",
       "    </tr>\n",
       "    <tr>\n",
       "      <th>4</th>\n",
       "      <td>2</td>\n",
       "      <td>30035</td>\n",
       "      <td>5</td>\n",
       "      <td>0</td>\n",
       "    </tr>\n",
       "  </tbody>\n",
       "</table>\n",
       "</div>"
      ],
      "text/plain": [
       "   order_id  product_id  add_to_cart_order  reordered\n",
       "0         2       33120                  1          1\n",
       "1         2       28985                  2          1\n",
       "2         2        9327                  3          0\n",
       "3         2       45918                  4          1\n",
       "4         2       30035                  5          0"
      ]
     },
     "execution_count": 74,
     "metadata": {},
     "output_type": "execute_result"
    }
   ],
   "source": [
    "dados_transacoes.head()"
   ]
  },
  {
   "cell_type": "code",
   "execution_count": 47,
   "id": "ac64c201-3c15-4463-86f7-5fec79a58215",
   "metadata": {},
   "outputs": [
    {
     "data": {
      "text/plain": [
       "False    3214874\n",
       "Name: count, dtype: int64"
      ]
     },
     "execution_count": 47,
     "metadata": {},
     "output_type": "execute_result"
    }
   ],
   "source": [
    "dados_transacoes.duplicated().value_counts()"
   ]
  },
  {
   "cell_type": "markdown",
   "id": "f22fd2fe-60f3-46d5-806d-c816b88052fa",
   "metadata": {},
   "source": [
    "# Verificando valores ausentes"
   ]
  },
  {
   "cell_type": "code",
   "execution_count": 48,
   "id": "a2720a16-16f1-4429-989d-803f8f8c56a7",
   "metadata": {},
   "outputs": [
    {
     "data": {
      "text/plain": [
       "aisle_id    0\n",
       "aisle       0\n",
       "dtype: int64"
      ]
     },
     "execution_count": 48,
     "metadata": {},
     "output_type": "execute_result"
    }
   ],
   "source": [
    "dados_corredores.isna().sum()"
   ]
  },
  {
   "cell_type": "code",
   "execution_count": 49,
   "id": "fd2e2241-711e-4f95-b7e7-24ede2523570",
   "metadata": {},
   "outputs": [
    {
     "data": {
      "text/plain": [
       "department_id    0\n",
       "department       0\n",
       "dtype: int64"
      ]
     },
     "execution_count": 49,
     "metadata": {},
     "output_type": "execute_result"
    }
   ],
   "source": [
    "dados_departamentos.isna().sum()"
   ]
  },
  {
   "cell_type": "code",
   "execution_count": 50,
   "id": "918c3895-5dfc-455d-92d6-8d4d7fc8cc83",
   "metadata": {},
   "outputs": [
    {
     "data": {
      "text/plain": [
       "order_id                       0\n",
       "user_id                        0\n",
       "eval_set                       0\n",
       "order_number                   0\n",
       "order_dow                      0\n",
       "order_hour_of_day              0\n",
       "days_since_prior_order    206209\n",
       "dtype: int64"
      ]
     },
     "execution_count": 50,
     "metadata": {},
     "output_type": "execute_result"
    }
   ],
   "source": [
    "dados_pedidos.isna().sum()"
   ]
  },
  {
   "cell_type": "code",
   "execution_count": 51,
   "id": "93baddaa-0183-413e-969f-973cab0be674",
   "metadata": {},
   "outputs": [
    {
     "data": {
      "text/plain": [
       "product_id       0\n",
       "product_name     0\n",
       "aisle_id         0\n",
       "department_id    0\n",
       "dtype: int64"
      ]
     },
     "execution_count": 51,
     "metadata": {},
     "output_type": "execute_result"
    }
   ],
   "source": [
    "dados_produtos.isna().sum()"
   ]
  },
  {
   "cell_type": "code",
   "execution_count": 52,
   "id": "4eac9e40-6658-4732-a262-19b07f6c8b82",
   "metadata": {},
   "outputs": [
    {
     "data": {
      "text/plain": [
       "Unnamed: 0    0\n",
       "id_pedido     0\n",
       "Produtos      0\n",
       "dtype: int64"
      ]
     },
     "execution_count": 52,
     "metadata": {},
     "output_type": "execute_result"
    }
   ],
   "source": [
    "dados_transacoes.isna().sum()"
   ]
  },
  {
   "cell_type": "markdown",
   "id": "c77d9255-114f-4c19-8ef9-c5acd3b36fbf",
   "metadata": {},
   "source": [
    "Analise: Somente consta valores ausentes na coluna 'days_since_prior_order' do arquivo de pedidos\n",
    "No entanto não se trata de um erro, pois se esta ausente é por que é a primeira compra do cliente.\n",
    "Vamos preencher com 0"
   ]
  },
  {
   "cell_type": "markdown",
   "id": "40a33f9b-8953-45ba-99b3-8af77840f986",
   "metadata": {},
   "source": [
    "# Tratando valores ausentes"
   ]
  },
  {
   "cell_type": "code",
   "execution_count": 3,
   "id": "7d4b2d50-d2eb-4a9b-bbb7-9df8b519cba9",
   "metadata": {},
   "outputs": [],
   "source": [
    "# Aplicando 0 para os valores ausentes na coluna days_since_prior_order\n",
    "dados_pedidos['days_since_prior_order'].fillna(value=0, inplace=True)"
   ]
  },
  {
   "cell_type": "code",
   "execution_count": 76,
   "id": "a5b8ec8f-bd8f-46e6-b2eb-1ccab571b64a",
   "metadata": {},
   "outputs": [
    {
     "data": {
      "text/plain": [
       "order_id                  0\n",
       "user_id                   0\n",
       "eval_set                  0\n",
       "order_number              0\n",
       "order_dow                 0\n",
       "order_hour_of_day         0\n",
       "days_since_prior_order    0\n",
       "dtype: int64"
      ]
     },
     "execution_count": 76,
     "metadata": {},
     "output_type": "execute_result"
    }
   ],
   "source": [
    "# Verificando\n",
    "dados_pedidos.isna().sum()"
   ]
  },
  {
   "cell_type": "markdown",
   "id": "10351819-c0ed-4132-b75c-e85d69fdc00b",
   "metadata": {},
   "source": [
    "Parecer: Foi incluído o valor 0 para identificar que não houve compra anterior. E essa coluna não será usada em análsies posteriores, dessa forma o valor\n",
    "inputado não gerará impacto."
   ]
  },
  {
   "cell_type": "markdown",
   "id": "b82c8998-e1f4-4427-bb35-2803463a1b23",
   "metadata": {},
   "source": [
    "# Realizando o Merge entre as tabelas"
   ]
  },
  {
   "cell_type": "code",
   "execution_count": 77,
   "id": "3ccb3258-0f8c-48a5-b117-793897bb3b36",
   "metadata": {},
   "outputs": [
    {
     "data": {
      "text/html": [
       "<div>\n",
       "<style scoped>\n",
       "    .dataframe tbody tr th:only-of-type {\n",
       "        vertical-align: middle;\n",
       "    }\n",
       "\n",
       "    .dataframe tbody tr th {\n",
       "        vertical-align: top;\n",
       "    }\n",
       "\n",
       "    .dataframe thead th {\n",
       "        text-align: right;\n",
       "    }\n",
       "</style>\n",
       "<table border=\"1\" class=\"dataframe\">\n",
       "  <thead>\n",
       "    <tr style=\"text-align: right;\">\n",
       "      <th></th>\n",
       "      <th>product_id</th>\n",
       "      <th>product_name</th>\n",
       "      <th>aisle_id</th>\n",
       "      <th>department_id</th>\n",
       "    </tr>\n",
       "  </thead>\n",
       "  <tbody>\n",
       "    <tr>\n",
       "      <th>0</th>\n",
       "      <td>1</td>\n",
       "      <td>Chocolate Sandwich Cookies</td>\n",
       "      <td>61</td>\n",
       "      <td>19</td>\n",
       "    </tr>\n",
       "  </tbody>\n",
       "</table>\n",
       "</div>"
      ],
      "text/plain": [
       "   product_id                product_name  aisle_id  department_id\n",
       "0           1  Chocolate Sandwich Cookies        61             19"
      ]
     },
     "execution_count": 77,
     "metadata": {},
     "output_type": "execute_result"
    }
   ],
   "source": [
    "dados_produtos.head(1)"
   ]
  },
  {
   "cell_type": "code",
   "execution_count": 78,
   "id": "a737b8d8-59d5-4a9d-8b61-70c9303d2fc1",
   "metadata": {},
   "outputs": [
    {
     "data": {
      "text/html": [
       "<div>\n",
       "<style scoped>\n",
       "    .dataframe tbody tr th:only-of-type {\n",
       "        vertical-align: middle;\n",
       "    }\n",
       "\n",
       "    .dataframe tbody tr th {\n",
       "        vertical-align: top;\n",
       "    }\n",
       "\n",
       "    .dataframe thead th {\n",
       "        text-align: right;\n",
       "    }\n",
       "</style>\n",
       "<table border=\"1\" class=\"dataframe\">\n",
       "  <thead>\n",
       "    <tr style=\"text-align: right;\">\n",
       "      <th></th>\n",
       "      <th>aisle_id</th>\n",
       "      <th>aisle</th>\n",
       "    </tr>\n",
       "  </thead>\n",
       "  <tbody>\n",
       "    <tr>\n",
       "      <th>0</th>\n",
       "      <td>1</td>\n",
       "      <td>prepared soups salads</td>\n",
       "    </tr>\n",
       "  </tbody>\n",
       "</table>\n",
       "</div>"
      ],
      "text/plain": [
       "   aisle_id                  aisle\n",
       "0         1  prepared soups salads"
      ]
     },
     "execution_count": 78,
     "metadata": {},
     "output_type": "execute_result"
    }
   ],
   "source": [
    "dados_corredores.head(1)"
   ]
  },
  {
   "cell_type": "code",
   "execution_count": 79,
   "id": "79bf8e7b-ff64-41dc-b65a-a6cf60bc4b6a",
   "metadata": {},
   "outputs": [
    {
     "data": {
      "text/html": [
       "<div>\n",
       "<style scoped>\n",
       "    .dataframe tbody tr th:only-of-type {\n",
       "        vertical-align: middle;\n",
       "    }\n",
       "\n",
       "    .dataframe tbody tr th {\n",
       "        vertical-align: top;\n",
       "    }\n",
       "\n",
       "    .dataframe thead th {\n",
       "        text-align: right;\n",
       "    }\n",
       "</style>\n",
       "<table border=\"1\" class=\"dataframe\">\n",
       "  <thead>\n",
       "    <tr style=\"text-align: right;\">\n",
       "      <th></th>\n",
       "      <th>order_id</th>\n",
       "      <th>product_id</th>\n",
       "      <th>add_to_cart_order</th>\n",
       "      <th>reordered</th>\n",
       "    </tr>\n",
       "  </thead>\n",
       "  <tbody>\n",
       "    <tr>\n",
       "      <th>0</th>\n",
       "      <td>2</td>\n",
       "      <td>33120</td>\n",
       "      <td>1</td>\n",
       "      <td>1</td>\n",
       "    </tr>\n",
       "    <tr>\n",
       "      <th>1</th>\n",
       "      <td>2</td>\n",
       "      <td>28985</td>\n",
       "      <td>2</td>\n",
       "      <td>1</td>\n",
       "    </tr>\n",
       "    <tr>\n",
       "      <th>2</th>\n",
       "      <td>2</td>\n",
       "      <td>9327</td>\n",
       "      <td>3</td>\n",
       "      <td>0</td>\n",
       "    </tr>\n",
       "    <tr>\n",
       "      <th>3</th>\n",
       "      <td>2</td>\n",
       "      <td>45918</td>\n",
       "      <td>4</td>\n",
       "      <td>1</td>\n",
       "    </tr>\n",
       "    <tr>\n",
       "      <th>4</th>\n",
       "      <td>2</td>\n",
       "      <td>30035</td>\n",
       "      <td>5</td>\n",
       "      <td>0</td>\n",
       "    </tr>\n",
       "  </tbody>\n",
       "</table>\n",
       "</div>"
      ],
      "text/plain": [
       "   order_id  product_id  add_to_cart_order  reordered\n",
       "0         2       33120                  1          1\n",
       "1         2       28985                  2          1\n",
       "2         2        9327                  3          0\n",
       "3         2       45918                  4          1\n",
       "4         2       30035                  5          0"
      ]
     },
     "execution_count": 79,
     "metadata": {},
     "output_type": "execute_result"
    }
   ],
   "source": [
    "dados_transacoes.head()"
   ]
  },
  {
   "cell_type": "code",
   "execution_count": 4,
   "id": "76ea6e9b-c786-4cac-bc89-aa655a5d340e",
   "metadata": {},
   "outputs": [],
   "source": [
    "# Produtos com corredores\n",
    "prod_corred = pd.merge(left=dados_produtos, right=dados_corredores, on = 'aisle_id' )                  "
   ]
  },
  {
   "cell_type": "code",
   "execution_count": 5,
   "id": "2ff567c1-087e-4cde-bb3c-3e55fc7b44ab",
   "metadata": {},
   "outputs": [],
   "source": [
    "# Produtos , corredores e departamentos\n",
    "prod_corred_dept = pd.merge(left=prod_corred,right=dados_departamentos, on ='department_id')"
   ]
  },
  {
   "cell_type": "code",
   "execution_count": 6,
   "id": "8e38d5b9-d6f6-4151-90c3-d4a9e85bec5b",
   "metadata": {},
   "outputs": [
    {
     "data": {
      "text/html": [
       "<div>\n",
       "<style scoped>\n",
       "    .dataframe tbody tr th:only-of-type {\n",
       "        vertical-align: middle;\n",
       "    }\n",
       "\n",
       "    .dataframe tbody tr th {\n",
       "        vertical-align: top;\n",
       "    }\n",
       "\n",
       "    .dataframe thead th {\n",
       "        text-align: right;\n",
       "    }\n",
       "</style>\n",
       "<table border=\"1\" class=\"dataframe\">\n",
       "  <thead>\n",
       "    <tr style=\"text-align: right;\">\n",
       "      <th></th>\n",
       "      <th>order_id</th>\n",
       "      <th>product_id</th>\n",
       "      <th>add_to_cart_order</th>\n",
       "      <th>reordered</th>\n",
       "    </tr>\n",
       "  </thead>\n",
       "  <tbody>\n",
       "    <tr>\n",
       "      <th>0</th>\n",
       "      <td>2</td>\n",
       "      <td>33120</td>\n",
       "      <td>1</td>\n",
       "      <td>1</td>\n",
       "    </tr>\n",
       "    <tr>\n",
       "      <th>1</th>\n",
       "      <td>2</td>\n",
       "      <td>28985</td>\n",
       "      <td>2</td>\n",
       "      <td>1</td>\n",
       "    </tr>\n",
       "    <tr>\n",
       "      <th>2</th>\n",
       "      <td>2</td>\n",
       "      <td>9327</td>\n",
       "      <td>3</td>\n",
       "      <td>0</td>\n",
       "    </tr>\n",
       "    <tr>\n",
       "      <th>3</th>\n",
       "      <td>2</td>\n",
       "      <td>45918</td>\n",
       "      <td>4</td>\n",
       "      <td>1</td>\n",
       "    </tr>\n",
       "    <tr>\n",
       "      <th>4</th>\n",
       "      <td>2</td>\n",
       "      <td>30035</td>\n",
       "      <td>5</td>\n",
       "      <td>0</td>\n",
       "    </tr>\n",
       "  </tbody>\n",
       "</table>\n",
       "</div>"
      ],
      "text/plain": [
       "   order_id  product_id  add_to_cart_order  reordered\n",
       "0         2       33120                  1          1\n",
       "1         2       28985                  2          1\n",
       "2         2        9327                  3          0\n",
       "3         2       45918                  4          1\n",
       "4         2       30035                  5          0"
      ]
     },
     "execution_count": 6,
     "metadata": {},
     "output_type": "execute_result"
    }
   ],
   "source": [
    "dados_transacoes.head()"
   ]
  },
  {
   "cell_type": "code",
   "execution_count": 7,
   "id": "bd5c6d3a-2c19-4e94-b99c-3b67645751a9",
   "metadata": {},
   "outputs": [],
   "source": [
    "# Produtos , corredores , departamentos, transações\n",
    "prod_corred_dept_transac = pd.merge(left=prod_corred_dept, right=dados_transacoes, on ='product_id')"
   ]
  },
  {
   "cell_type": "code",
   "execution_count": 8,
   "id": "93bdf8ad-21f7-47a2-bdd6-3b209090cb8b",
   "metadata": {},
   "outputs": [],
   "source": [
    "# Produtos , corredores , departamentos, transações e pedidos\n",
    "tabela_final = pd.merge(left=prod_corred_dept_transac, right=dados_pedidos, on='order_id')"
   ]
  },
  {
   "cell_type": "code",
   "execution_count": 9,
   "id": "dbd001a1-28ff-4a79-8620-3112d9f0d9a5",
   "metadata": {},
   "outputs": [
    {
     "data": {
      "text/html": [
       "<div>\n",
       "<style scoped>\n",
       "    .dataframe tbody tr th:only-of-type {\n",
       "        vertical-align: middle;\n",
       "    }\n",
       "\n",
       "    .dataframe tbody tr th {\n",
       "        vertical-align: top;\n",
       "    }\n",
       "\n",
       "    .dataframe thead th {\n",
       "        text-align: right;\n",
       "    }\n",
       "</style>\n",
       "<table border=\"1\" class=\"dataframe\">\n",
       "  <thead>\n",
       "    <tr style=\"text-align: right;\">\n",
       "      <th></th>\n",
       "      <th>product_id</th>\n",
       "      <th>product_name</th>\n",
       "      <th>aisle_id</th>\n",
       "      <th>department_id</th>\n",
       "      <th>aisle</th>\n",
       "      <th>department</th>\n",
       "      <th>order_id</th>\n",
       "      <th>add_to_cart_order</th>\n",
       "      <th>reordered</th>\n",
       "      <th>user_id</th>\n",
       "      <th>eval_set</th>\n",
       "      <th>order_number</th>\n",
       "      <th>order_dow</th>\n",
       "      <th>order_hour_of_day</th>\n",
       "      <th>days_since_prior_order</th>\n",
       "    </tr>\n",
       "  </thead>\n",
       "  <tbody>\n",
       "    <tr>\n",
       "      <th>0</th>\n",
       "      <td>1</td>\n",
       "      <td>Chocolate Sandwich Cookies</td>\n",
       "      <td>61</td>\n",
       "      <td>19</td>\n",
       "      <td>cookies cakes</td>\n",
       "      <td>snacks</td>\n",
       "      <td>1107</td>\n",
       "      <td>7</td>\n",
       "      <td>0</td>\n",
       "      <td>38259</td>\n",
       "      <td>prior</td>\n",
       "      <td>2</td>\n",
       "      <td>1</td>\n",
       "      <td>11</td>\n",
       "      <td>7.0</td>\n",
       "    </tr>\n",
       "    <tr>\n",
       "      <th>1</th>\n",
       "      <td>1</td>\n",
       "      <td>Chocolate Sandwich Cookies</td>\n",
       "      <td>61</td>\n",
       "      <td>19</td>\n",
       "      <td>cookies cakes</td>\n",
       "      <td>snacks</td>\n",
       "      <td>5319</td>\n",
       "      <td>3</td>\n",
       "      <td>1</td>\n",
       "      <td>196224</td>\n",
       "      <td>prior</td>\n",
       "      <td>65</td>\n",
       "      <td>1</td>\n",
       "      <td>14</td>\n",
       "      <td>1.0</td>\n",
       "    </tr>\n",
       "    <tr>\n",
       "      <th>2</th>\n",
       "      <td>1</td>\n",
       "      <td>Chocolate Sandwich Cookies</td>\n",
       "      <td>61</td>\n",
       "      <td>19</td>\n",
       "      <td>cookies cakes</td>\n",
       "      <td>snacks</td>\n",
       "      <td>7540</td>\n",
       "      <td>4</td>\n",
       "      <td>1</td>\n",
       "      <td>138499</td>\n",
       "      <td>prior</td>\n",
       "      <td>8</td>\n",
       "      <td>0</td>\n",
       "      <td>14</td>\n",
       "      <td>7.0</td>\n",
       "    </tr>\n",
       "    <tr>\n",
       "      <th>3</th>\n",
       "      <td>1</td>\n",
       "      <td>Chocolate Sandwich Cookies</td>\n",
       "      <td>61</td>\n",
       "      <td>19</td>\n",
       "      <td>cookies cakes</td>\n",
       "      <td>snacks</td>\n",
       "      <td>9228</td>\n",
       "      <td>2</td>\n",
       "      <td>0</td>\n",
       "      <td>79603</td>\n",
       "      <td>prior</td>\n",
       "      <td>2</td>\n",
       "      <td>2</td>\n",
       "      <td>10</td>\n",
       "      <td>30.0</td>\n",
       "    </tr>\n",
       "    <tr>\n",
       "      <th>4</th>\n",
       "      <td>1</td>\n",
       "      <td>Chocolate Sandwich Cookies</td>\n",
       "      <td>61</td>\n",
       "      <td>19</td>\n",
       "      <td>cookies cakes</td>\n",
       "      <td>snacks</td>\n",
       "      <td>9273</td>\n",
       "      <td>30</td>\n",
       "      <td>0</td>\n",
       "      <td>50005</td>\n",
       "      <td>prior</td>\n",
       "      <td>1</td>\n",
       "      <td>1</td>\n",
       "      <td>15</td>\n",
       "      <td>0.0</td>\n",
       "    </tr>\n",
       "  </tbody>\n",
       "</table>\n",
       "</div>"
      ],
      "text/plain": [
       "   product_id                product_name  aisle_id  department_id  \\\n",
       "0           1  Chocolate Sandwich Cookies        61             19   \n",
       "1           1  Chocolate Sandwich Cookies        61             19   \n",
       "2           1  Chocolate Sandwich Cookies        61             19   \n",
       "3           1  Chocolate Sandwich Cookies        61             19   \n",
       "4           1  Chocolate Sandwich Cookies        61             19   \n",
       "\n",
       "           aisle department  order_id  add_to_cart_order  reordered  user_id  \\\n",
       "0  cookies cakes     snacks      1107                  7          0    38259   \n",
       "1  cookies cakes     snacks      5319                  3          1   196224   \n",
       "2  cookies cakes     snacks      7540                  4          1   138499   \n",
       "3  cookies cakes     snacks      9228                  2          0    79603   \n",
       "4  cookies cakes     snacks      9273                 30          0    50005   \n",
       "\n",
       "  eval_set  order_number  order_dow  order_hour_of_day  days_since_prior_order  \n",
       "0    prior             2          1                 11                     7.0  \n",
       "1    prior            65          1                 14                     1.0  \n",
       "2    prior             8          0                 14                     7.0  \n",
       "3    prior             2          2                 10                    30.0  \n",
       "4    prior             1          1                 15                     0.0  "
      ]
     },
     "execution_count": 9,
     "metadata": {},
     "output_type": "execute_result"
    }
   ],
   "source": [
    "tabela_final.head()"
   ]
  },
  {
   "cell_type": "code",
   "execution_count": 10,
   "id": "1994f630-59c3-4e08-a8d0-e3f1f77a241c",
   "metadata": {},
   "outputs": [
    {
     "data": {
      "text/plain": [
       "product_id                0\n",
       "product_name              0\n",
       "aisle_id                  0\n",
       "department_id             0\n",
       "aisle                     0\n",
       "department                0\n",
       "order_id                  0\n",
       "add_to_cart_order         0\n",
       "reordered                 0\n",
       "user_id                   0\n",
       "eval_set                  0\n",
       "order_number              0\n",
       "order_dow                 0\n",
       "order_hour_of_day         0\n",
       "days_since_prior_order    0\n",
       "dtype: int64"
      ]
     },
     "execution_count": 10,
     "metadata": {},
     "output_type": "execute_result"
    }
   ],
   "source": [
    "tabela_final.isnull().sum()"
   ]
  },
  {
   "cell_type": "code",
   "execution_count": 32,
   "id": "73802dc9-1e42-4aee-9a17-86a5d13ec1b5",
   "metadata": {},
   "outputs": [
    {
     "data": {
      "text/plain": [
       "product_id                0.0\n",
       "product_name              0.0\n",
       "aisle_id                  0.0\n",
       "department_id             0.0\n",
       "aisle                     0.0\n",
       "department                0.0\n",
       "order_id                  0.0\n",
       "add_to_cart_order         0.0\n",
       "reordered                 0.0\n",
       "user_id                   0.0\n",
       "eval_set                  0.0\n",
       "order_number              0.0\n",
       "order_dow                 0.0\n",
       "order_hour_of_day         0.0\n",
       "days_since_prior_order    0.0\n",
       "dtype: float64"
      ]
     },
     "execution_count": 32,
     "metadata": {},
     "output_type": "execute_result"
    }
   ],
   "source": [
    "tabela_final.isnull().sum() / len(tabela_final) * 100"
   ]
  },
  {
   "cell_type": "code",
   "execution_count": 87,
   "id": "8da719a3-e22b-4eb5-916f-8f4847c917a4",
   "metadata": {},
   "outputs": [
    {
     "name": "stdout",
     "output_type": "stream",
     "text": [
      "CPU times: total: 6min 52s\n",
      "Wall time: 11min 15s\n"
     ]
    }
   ],
   "source": [
    "%%time\n",
    "df = pd.DataFrame(tabela_final.groupby('order_id')['product_id'])"
   ]
  },
  {
   "cell_type": "code",
   "execution_count": 88,
   "id": "3a98d391-c77d-4714-b627-64c24c76cb9a",
   "metadata": {},
   "outputs": [
    {
     "data": {
      "text/html": [
       "<div>\n",
       "<style scoped>\n",
       "    .dataframe tbody tr th:only-of-type {\n",
       "        vertical-align: middle;\n",
       "    }\n",
       "\n",
       "    .dataframe tbody tr th {\n",
       "        vertical-align: top;\n",
       "    }\n",
       "\n",
       "    .dataframe thead th {\n",
       "        text-align: right;\n",
       "    }\n",
       "</style>\n",
       "<table border=\"1\" class=\"dataframe\">\n",
       "  <thead>\n",
       "    <tr style=\"text-align: right;\">\n",
       "      <th></th>\n",
       "      <th>0</th>\n",
       "      <th>1</th>\n",
       "    </tr>\n",
       "  </thead>\n",
       "  <tbody>\n",
       "    <tr>\n",
       "      <th>0</th>\n",
       "      <td>2</td>\n",
       "      <td>896609       1819\n",
       "5460221      9327\n",
       "10458535  ...</td>\n",
       "    </tr>\n",
       "    <tr>\n",
       "      <th>1</th>\n",
       "      <td>3</td>\n",
       "      <td>10262720    17461\n",
       "10394412    17668\n",
       "10404238  ...</td>\n",
       "    </tr>\n",
       "    <tr>\n",
       "      <th>2</th>\n",
       "      <td>4</td>\n",
       "      <td>5871833     10054\n",
       "10354056    17616\n",
       "12982582  ...</td>\n",
       "    </tr>\n",
       "    <tr>\n",
       "      <th>3</th>\n",
       "      <td>5</td>\n",
       "      <td>3623840      6184\n",
       "3750229      6348\n",
       "4969367   ...</td>\n",
       "    </tr>\n",
       "    <tr>\n",
       "      <th>4</th>\n",
       "      <td>6</td>\n",
       "      <td>9364740     15873\n",
       "26024546    40462\n",
       "26871848  ...</td>\n",
       "    </tr>\n",
       "  </tbody>\n",
       "</table>\n",
       "</div>"
      ],
      "text/plain": [
       "   0                                                  1\n",
       "0  2  896609       1819\n",
       "5460221      9327\n",
       "10458535  ...\n",
       "1  3  10262720    17461\n",
       "10394412    17668\n",
       "10404238  ...\n",
       "2  4  5871833     10054\n",
       "10354056    17616\n",
       "12982582  ...\n",
       "3  5  3623840      6184\n",
       "3750229      6348\n",
       "4969367   ...\n",
       "4  6  9364740     15873\n",
       "26024546    40462\n",
       "26871848  ..."
      ]
     },
     "execution_count": 88,
     "metadata": {},
     "output_type": "execute_result"
    }
   ],
   "source": [
    "df.head()"
   ]
  },
  {
   "cell_type": "code",
   "execution_count": 89,
   "id": "fdbb93a3-6d1a-4b16-b512-17ca4cf7b3fe",
   "metadata": {},
   "outputs": [
    {
     "name": "stderr",
     "output_type": "stream",
     "text": [
      "100%|█████████████████████████████████████████████████████████████████████| 3214874/3214874 [03:27<00:00, 15526.68it/s]\n"
     ]
    }
   ],
   "source": [
    "# Lista\n",
    "prod = []\n",
    "\n",
    "for i in tqdm(range(len(df[0]))):\n",
    "    prod.append(list(df.iloc[i][1]))"
   ]
  },
  {
   "cell_type": "code",
   "execution_count": 90,
   "id": "393c2ad1-cbab-4362-94b1-373e36b3f66e",
   "metadata": {},
   "outputs": [],
   "source": [
    "# Prepara o daataframe\n",
    "transacoes_mba = pd.DataFrame({'id_pedido': df[0], 'Produtos' : prod})"
   ]
  },
  {
   "cell_type": "code",
   "execution_count": 91,
   "id": "53fbb838-ec66-4812-9490-b3df361e0cdb",
   "metadata": {},
   "outputs": [
    {
     "data": {
      "text/html": [
       "<div>\n",
       "<style scoped>\n",
       "    .dataframe tbody tr th:only-of-type {\n",
       "        vertical-align: middle;\n",
       "    }\n",
       "\n",
       "    .dataframe tbody tr th {\n",
       "        vertical-align: top;\n",
       "    }\n",
       "\n",
       "    .dataframe thead th {\n",
       "        text-align: right;\n",
       "    }\n",
       "</style>\n",
       "<table border=\"1\" class=\"dataframe\">\n",
       "  <thead>\n",
       "    <tr style=\"text-align: right;\">\n",
       "      <th></th>\n",
       "      <th>id_pedido</th>\n",
       "      <th>Produtos</th>\n",
       "    </tr>\n",
       "  </thead>\n",
       "  <tbody>\n",
       "    <tr>\n",
       "      <th>0</th>\n",
       "      <td>2</td>\n",
       "      <td>[1819, 9327, 17794, 28985, 30035, 33120, 40141...</td>\n",
       "    </tr>\n",
       "    <tr>\n",
       "      <th>1</th>\n",
       "      <td>3</td>\n",
       "      <td>[17461, 17668, 17704, 21903, 24838, 32665, 337...</td>\n",
       "    </tr>\n",
       "    <tr>\n",
       "      <th>2</th>\n",
       "      <td>4</td>\n",
       "      <td>[10054, 17616, 21351, 22598, 25146, 26434, 277...</td>\n",
       "    </tr>\n",
       "    <tr>\n",
       "      <th>3</th>\n",
       "      <td>5</td>\n",
       "      <td>[6184, 6348, 8479, 9633, 12962, 13176, 13245, ...</td>\n",
       "    </tr>\n",
       "    <tr>\n",
       "      <th>4</th>\n",
       "      <td>6</td>\n",
       "      <td>[15873, 40462, 41897]</td>\n",
       "    </tr>\n",
       "  </tbody>\n",
       "</table>\n",
       "</div>"
      ],
      "text/plain": [
       "   id_pedido                                           Produtos\n",
       "0          2  [1819, 9327, 17794, 28985, 30035, 33120, 40141...\n",
       "1          3  [17461, 17668, 17704, 21903, 24838, 32665, 337...\n",
       "2          4  [10054, 17616, 21351, 22598, 25146, 26434, 277...\n",
       "3          5  [6184, 6348, 8479, 9633, 12962, 13176, 13245, ...\n",
       "4          6                              [15873, 40462, 41897]"
      ]
     },
     "execution_count": 91,
     "metadata": {},
     "output_type": "execute_result"
    }
   ],
   "source": [
    "transacoes_mba.head()"
   ]
  },
  {
   "cell_type": "code",
   "execution_count": 92,
   "id": "5c356bac-9e96-4bcd-b731-2aee1a290396",
   "metadata": {},
   "outputs": [],
   "source": [
    "# Salvando em disco\n",
    "\n",
    "transacoes_mba.to_csv('transacoes_mba.csv')"
   ]
  },
  {
   "cell_type": "markdown",
   "id": "8eff1997-89a6-4f55-8488-590d2f91fbcd",
   "metadata": {},
   "source": [
    "# Respondendo 10 perguntas de negócios "
   ]
  },
  {
   "cell_type": "markdown",
   "id": "3da34f73-1469-4de2-a814-04e5ee56e43b",
   "metadata": {},
   "source": [
    "### 1 - Qual o número de pedidos mais frequente entre os usuários"
   ]
  },
  {
   "cell_type": "code",
   "execution_count": 13,
   "id": "0b90346c-1286-4ed2-970e-5f79b800181a",
   "metadata": {},
   "outputs": [
    {
     "data": {
      "text/html": [
       "<div>\n",
       "<style scoped>\n",
       "    .dataframe tbody tr th:only-of-type {\n",
       "        vertical-align: middle;\n",
       "    }\n",
       "\n",
       "    .dataframe tbody tr th {\n",
       "        vertical-align: top;\n",
       "    }\n",
       "\n",
       "    .dataframe thead th {\n",
       "        text-align: right;\n",
       "    }\n",
       "</style>\n",
       "<table border=\"1\" class=\"dataframe\">\n",
       "  <thead>\n",
       "    <tr style=\"text-align: right;\">\n",
       "      <th></th>\n",
       "      <th>order_id</th>\n",
       "      <th>user_id</th>\n",
       "      <th>eval_set</th>\n",
       "      <th>order_number</th>\n",
       "      <th>order_dow</th>\n",
       "      <th>order_hour_of_day</th>\n",
       "      <th>days_since_prior_order</th>\n",
       "    </tr>\n",
       "  </thead>\n",
       "  <tbody>\n",
       "    <tr>\n",
       "      <th>3421078</th>\n",
       "      <td>2266710</td>\n",
       "      <td>206209</td>\n",
       "      <td>prior</td>\n",
       "      <td>10</td>\n",
       "      <td>5</td>\n",
       "      <td>18</td>\n",
       "      <td>29.0</td>\n",
       "    </tr>\n",
       "    <tr>\n",
       "      <th>3421079</th>\n",
       "      <td>1854736</td>\n",
       "      <td>206209</td>\n",
       "      <td>prior</td>\n",
       "      <td>11</td>\n",
       "      <td>4</td>\n",
       "      <td>10</td>\n",
       "      <td>30.0</td>\n",
       "    </tr>\n",
       "    <tr>\n",
       "      <th>3421080</th>\n",
       "      <td>626363</td>\n",
       "      <td>206209</td>\n",
       "      <td>prior</td>\n",
       "      <td>12</td>\n",
       "      <td>1</td>\n",
       "      <td>12</td>\n",
       "      <td>18.0</td>\n",
       "    </tr>\n",
       "    <tr>\n",
       "      <th>3421081</th>\n",
       "      <td>2977660</td>\n",
       "      <td>206209</td>\n",
       "      <td>prior</td>\n",
       "      <td>13</td>\n",
       "      <td>1</td>\n",
       "      <td>12</td>\n",
       "      <td>7.0</td>\n",
       "    </tr>\n",
       "    <tr>\n",
       "      <th>3421082</th>\n",
       "      <td>272231</td>\n",
       "      <td>206209</td>\n",
       "      <td>train</td>\n",
       "      <td>14</td>\n",
       "      <td>6</td>\n",
       "      <td>14</td>\n",
       "      <td>30.0</td>\n",
       "    </tr>\n",
       "  </tbody>\n",
       "</table>\n",
       "</div>"
      ],
      "text/plain": [
       "         order_id  user_id eval_set  order_number  order_dow  \\\n",
       "3421078   2266710   206209    prior            10          5   \n",
       "3421079   1854736   206209    prior            11          4   \n",
       "3421080    626363   206209    prior            12          1   \n",
       "3421081   2977660   206209    prior            13          1   \n",
       "3421082    272231   206209    train            14          6   \n",
       "\n",
       "         order_hour_of_day  days_since_prior_order  \n",
       "3421078                 18                    29.0  \n",
       "3421079                 10                    30.0  \n",
       "3421080                 12                    18.0  \n",
       "3421081                 12                     7.0  \n",
       "3421082                 14                    30.0  "
      ]
     },
     "execution_count": 13,
     "metadata": {},
     "output_type": "execute_result"
    }
   ],
   "source": [
    "dados_pedidos.tail()"
   ]
  },
  {
   "cell_type": "code",
   "execution_count": 126,
   "id": "3d3c788a-16b0-46b0-8255-59972b1c7559",
   "metadata": {},
   "outputs": [
    {
     "name": "stdout",
     "output_type": "stream",
     "text": [
      "    order_number  count\n",
      "0              4  23986\n",
      "1              5  19590\n",
      "2              6  16165\n",
      "3              7  13850\n",
      "4              8  11700\n",
      "..           ...    ...\n",
      "92            94     57\n",
      "93            91     56\n",
      "94            97     54\n",
      "95            98     50\n",
      "96            99     47\n",
      "\n",
      "[97 rows x 2 columns]\n"
     ]
    }
   ],
   "source": [
    "dados = dados_pedidos.groupby('user_id')['order_number'].max().value_counts().reset_index()\n",
    "print(dados)"
   ]
  },
  {
   "cell_type": "code",
   "execution_count": null,
   "id": "4210aaef-9360-4cab-a257-133fac294179",
   "metadata": {},
   "outputs": [],
   "source": [
    "# Número de pedidos mais frequente entre usuários é 4."
   ]
  },
  {
   "cell_type": "markdown",
   "id": "99e1f5fa-fa53-46d7-ba88-16705b773b86",
   "metadata": {},
   "source": [
    "### 2 - Qual dia da semana tem o mauior número de pedidos?"
   ]
  },
  {
   "cell_type": "code",
   "execution_count": 135,
   "id": "6cc13e4f-8971-4649-ae36-e7b49ef07ebb",
   "metadata": {},
   "outputs": [],
   "source": [
    "# Criando dicionário para aplicação\n",
    "\n",
    "dias_da_semana = {\n",
    "    0: 'Domingo',\n",
    "    1: 'Segunda-feira',\n",
    "    2: 'Terça-feira',\n",
    "    3: 'Quarta-feira',\n",
    "    4: 'Quinta-feira',\n",
    "    5: 'Sexta-feira',\n",
    "    6: 'Sábado'\n",
    "}\n"
   ]
  },
  {
   "cell_type": "code",
   "execution_count": 164,
   "id": "cca5be4d-5e82-427c-a350-9021c3cd473b",
   "metadata": {},
   "outputs": [
    {
     "name": "stdout",
     "output_type": "stream",
     "text": [
      "order_dow\n",
      "Domingo          600905\n",
      "Segunda-feira    587478\n",
      "Terça-feira      467260\n",
      "Sexta-feira      453368\n",
      "Sábado           448761\n",
      "Quarta-feira     436972\n",
      "Quinta-feira     426339\n",
      "Name: count, dtype: int64\n"
     ]
    }
   ],
   "source": [
    "dados = dados_pedidos['order_dow'].replace(dias_da_semana).value_counts()\n",
    "print(dados)"
   ]
  },
  {
   "cell_type": "code",
   "execution_count": 149,
   "id": "2b39e254-84c4-402d-acaa-11de9c3dfb23",
   "metadata": {},
   "outputs": [
    {
     "data": {
      "text/plain": [
       "pandas.core.series.Series"
      ]
     },
     "execution_count": 149,
     "metadata": {},
     "output_type": "execute_result"
    }
   ],
   "source": [
    "type(dados)"
   ]
  },
  {
   "cell_type": "markdown",
   "id": "bdc37dac-dc74-46b2-b1a4-4d6dd1d078a2",
   "metadata": {},
   "source": [
    "Resposta: Dia da semana com maior volume de pedidos é Domingo"
   ]
  },
  {
   "cell_type": "markdown",
   "id": "b64818af-9efb-4b52-9020-c0bf5f231f73",
   "metadata": {},
   "source": [
    "### 3 - Qual hora do dia tem o maior número de pedidos?"
   ]
  },
  {
   "cell_type": "code",
   "execution_count": 4,
   "id": "605fb970-ba25-4d97-adda-ecac83402a72",
   "metadata": {},
   "outputs": [
    {
     "data": {
      "text/plain": [
       "order_hour_of_day\n",
       "10    288418\n",
       "11    284728\n",
       "15    283639\n",
       "14    283042\n",
       "13    277999\n",
       "Name: count, dtype: int64"
      ]
     },
     "execution_count": 4,
     "metadata": {},
     "output_type": "execute_result"
    }
   ],
   "source": [
    "dados_pedidos['order_hour_of_day'].value_counts().head()"
   ]
  },
  {
   "cell_type": "code",
   "execution_count": 173,
   "id": "41f53ee9-f47e-461c-b9d7-faddf8786830",
   "metadata": {},
   "outputs": [],
   "source": [
    "dados = dados_pedidos.groupby('order_hour_of_day').size()"
   ]
  },
  {
   "cell_type": "code",
   "execution_count": 174,
   "id": "483e0b6e-b041-4a38-89d6-6b9339b43faa",
   "metadata": {},
   "outputs": [],
   "source": [
    "x= dados.index.tolist()\n",
    "y = dados.values.tolist()"
   ]
  },
  {
   "cell_type": "code",
   "execution_count": 180,
   "id": "05dcc7c6-5f78-4982-b2b2-95e1ff4e94c9",
   "metadata": {},
   "outputs": [
    {
     "data": {
      "image/png": "[encoded data removed]",
      "text/plain": [
       "<Figure size 1000x400 with 1 Axes>"
      ]
     },
     "metadata": {},
     "output_type": "display_data"
    }
   ],
   "source": [
    "plt.figure(figsize=(10,4))\n",
    "plt.bar(x,y)\n",
    "plt.title('Distribuição de pedidos por hora do dia')\n",
    "plt.xlabel('Hora do dia')\n",
    "plt.xticks(x)\n",
    "plt.show()"
   ]
  },
  {
   "cell_type": "markdown",
   "id": "adcb7712-9f1f-4ae1-b798-8dd4829ff9f9",
   "metadata": {},
   "source": [
    "Resposta: As 10h da manhã"
   ]
  },
  {
   "cell_type": "markdown",
   "id": "9e329474-a0b8-4213-a649-612247b8a0c0",
   "metadata": {},
   "source": [
    "### 4 - Qual departamento tem o maior número de pedidos?"
   ]
  },
  {
   "cell_type": "code",
   "execution_count": 104,
   "id": "99dc71aa-0b0c-4fc5-b6b8-1a0010838676",
   "metadata": {},
   "outputs": [
    {
     "data": {
      "text/html": [
       "<div>\n",
       "<style scoped>\n",
       "    .dataframe tbody tr th:only-of-type {\n",
       "        vertical-align: middle;\n",
       "    }\n",
       "\n",
       "    .dataframe tbody tr th {\n",
       "        vertical-align: top;\n",
       "    }\n",
       "\n",
       "    .dataframe thead th {\n",
       "        text-align: right;\n",
       "    }\n",
       "</style>\n",
       "<table border=\"1\" class=\"dataframe\">\n",
       "  <thead>\n",
       "    <tr style=\"text-align: right;\">\n",
       "      <th></th>\n",
       "      <th>product_id</th>\n",
       "      <th>product_name</th>\n",
       "      <th>aisle_id</th>\n",
       "      <th>department_id</th>\n",
       "      <th>aisle</th>\n",
       "      <th>department</th>\n",
       "      <th>order_id</th>\n",
       "      <th>add_to_cart_order</th>\n",
       "      <th>reordered</th>\n",
       "      <th>user_id</th>\n",
       "      <th>eval_set</th>\n",
       "      <th>order_number</th>\n",
       "      <th>order_dow</th>\n",
       "      <th>order_hour_of_day</th>\n",
       "      <th>days_since_prior_order</th>\n",
       "    </tr>\n",
       "  </thead>\n",
       "  <tbody>\n",
       "    <tr>\n",
       "      <th>0</th>\n",
       "      <td>1</td>\n",
       "      <td>Chocolate Sandwich Cookies</td>\n",
       "      <td>61</td>\n",
       "      <td>19</td>\n",
       "      <td>cookies cakes</td>\n",
       "      <td>snacks</td>\n",
       "      <td>1107</td>\n",
       "      <td>7</td>\n",
       "      <td>0</td>\n",
       "      <td>38259</td>\n",
       "      <td>prior</td>\n",
       "      <td>2</td>\n",
       "      <td>1</td>\n",
       "      <td>11</td>\n",
       "      <td>7.0</td>\n",
       "    </tr>\n",
       "    <tr>\n",
       "      <th>1</th>\n",
       "      <td>1</td>\n",
       "      <td>Chocolate Sandwich Cookies</td>\n",
       "      <td>61</td>\n",
       "      <td>19</td>\n",
       "      <td>cookies cakes</td>\n",
       "      <td>snacks</td>\n",
       "      <td>5319</td>\n",
       "      <td>3</td>\n",
       "      <td>1</td>\n",
       "      <td>196224</td>\n",
       "      <td>prior</td>\n",
       "      <td>65</td>\n",
       "      <td>1</td>\n",
       "      <td>14</td>\n",
       "      <td>1.0</td>\n",
       "    </tr>\n",
       "    <tr>\n",
       "      <th>2</th>\n",
       "      <td>1</td>\n",
       "      <td>Chocolate Sandwich Cookies</td>\n",
       "      <td>61</td>\n",
       "      <td>19</td>\n",
       "      <td>cookies cakes</td>\n",
       "      <td>snacks</td>\n",
       "      <td>7540</td>\n",
       "      <td>4</td>\n",
       "      <td>1</td>\n",
       "      <td>138499</td>\n",
       "      <td>prior</td>\n",
       "      <td>8</td>\n",
       "      <td>0</td>\n",
       "      <td>14</td>\n",
       "      <td>7.0</td>\n",
       "    </tr>\n",
       "    <tr>\n",
       "      <th>3</th>\n",
       "      <td>1</td>\n",
       "      <td>Chocolate Sandwich Cookies</td>\n",
       "      <td>61</td>\n",
       "      <td>19</td>\n",
       "      <td>cookies cakes</td>\n",
       "      <td>snacks</td>\n",
       "      <td>9228</td>\n",
       "      <td>2</td>\n",
       "      <td>0</td>\n",
       "      <td>79603</td>\n",
       "      <td>prior</td>\n",
       "      <td>2</td>\n",
       "      <td>2</td>\n",
       "      <td>10</td>\n",
       "      <td>30.0</td>\n",
       "    </tr>\n",
       "    <tr>\n",
       "      <th>4</th>\n",
       "      <td>1</td>\n",
       "      <td>Chocolate Sandwich Cookies</td>\n",
       "      <td>61</td>\n",
       "      <td>19</td>\n",
       "      <td>cookies cakes</td>\n",
       "      <td>snacks</td>\n",
       "      <td>9273</td>\n",
       "      <td>30</td>\n",
       "      <td>0</td>\n",
       "      <td>50005</td>\n",
       "      <td>prior</td>\n",
       "      <td>1</td>\n",
       "      <td>1</td>\n",
       "      <td>15</td>\n",
       "      <td>0.0</td>\n",
       "    </tr>\n",
       "  </tbody>\n",
       "</table>\n",
       "</div>"
      ],
      "text/plain": [
       "   product_id                product_name  aisle_id  department_id  \\\n",
       "0           1  Chocolate Sandwich Cookies        61             19   \n",
       "1           1  Chocolate Sandwich Cookies        61             19   \n",
       "2           1  Chocolate Sandwich Cookies        61             19   \n",
       "3           1  Chocolate Sandwich Cookies        61             19   \n",
       "4           1  Chocolate Sandwich Cookies        61             19   \n",
       "\n",
       "           aisle department  order_id  add_to_cart_order  reordered  user_id  \\\n",
       "0  cookies cakes     snacks      1107                  7          0    38259   \n",
       "1  cookies cakes     snacks      5319                  3          1   196224   \n",
       "2  cookies cakes     snacks      7540                  4          1   138499   \n",
       "3  cookies cakes     snacks      9228                  2          0    79603   \n",
       "4  cookies cakes     snacks      9273                 30          0    50005   \n",
       "\n",
       "  eval_set  order_number  order_dow  order_hour_of_day  days_since_prior_order  \n",
       "0    prior             2          1                 11                     7.0  \n",
       "1    prior            65          1                 14                     1.0  \n",
       "2    prior             8          0                 14                     7.0  \n",
       "3    prior             2          2                 10                    30.0  \n",
       "4    prior             1          1                 15                     0.0  "
      ]
     },
     "execution_count": 104,
     "metadata": {},
     "output_type": "execute_result"
    }
   ],
   "source": [
    "tabela_final.head()"
   ]
  },
  {
   "cell_type": "code",
   "execution_count": 23,
   "id": "631af750-4b51-4d1c-8b0f-850b8d7086f4",
   "metadata": {},
   "outputs": [
    {
     "name": "stdout",
     "output_type": "stream",
     "text": [
      "department\n",
      "produce            9479291\n",
      "dairy eggs         5414016\n",
      "snacks             2887550\n",
      "beverages          2690129\n",
      "frozen             2236432\n",
      "pantry             1875577\n",
      "bakery             1176787\n",
      "canned goods       1068058\n",
      "deli               1051249\n",
      "dry goods pasta     866627\n",
      "household           738666\n",
      "breakfast           709569\n",
      "meat seafood        708931\n",
      "personal care       447123\n",
      "babies              423802\n",
      "international       269253\n",
      "alcohol             153696\n",
      "pets                 97724\n",
      "missing              69145\n",
      "other                36291\n",
      "bulk                 34573\n",
      "Name: count, dtype: int64\n"
     ]
    }
   ],
   "source": [
    "dados_Dep = tabela_final['department'].value_counts()\n",
    "print(dados_Dep)"
   ]
  },
  {
   "cell_type": "code",
   "execution_count": 24,
   "id": "246268b1-8953-4ae0-98ac-f8c6fdfe52ef",
   "metadata": {},
   "outputs": [
    {
     "data": {
      "image/png": "[encoded data removed]",
      "text/plain": [
       "<Figure size 1400x400 with 1 Axes>"
      ]
     },
     "metadata": {},
     "output_type": "display_data"
    }
   ],
   "source": [
    "cria_graficos(dados_Dep, 'Número de pedidos por departamento','Departamentos')"
   ]
  },
  {
   "cell_type": "markdown",
   "id": "533b3f2f-c5f9-491e-950d-d4376a68fbf6",
   "metadata": {},
   "source": [
    "# O Departamento com maior número de pedios é produce "
   ]
  },
  {
   "cell_type": "code",
   "execution_count": 11,
   "id": "4d0a861f-6274-488b-bfc2-4f9bd1b6ad10",
   "metadata": {},
   "outputs": [],
   "source": [
    "### 5 - Quais os 20 principais corredores por frequência de pedidos"
   ]
  },
  {
   "cell_type": "code",
   "execution_count": 16,
   "id": "cd66e392-6fe8-4be3-a276-b6ad432a111a",
   "metadata": {},
   "outputs": [
    {
     "data": {
      "text/plain": [
       "aisle\n",
       "fresh fruits                     3642188\n",
       "fresh vegetables                 3418021\n",
       "packaged vegetables fruits       1765313\n",
       "yogurt                           1452343\n",
       "packaged cheese                   979763\n",
       "milk                              891015\n",
       "water seltzer sparkling water     841533\n",
       "chips pretzels                    722470\n",
       "soy lactosefree                   638253\n",
       "bread                             584834\n",
       "refrigerated                      575881\n",
       "frozen produce                    522654\n",
       "ice cream ice                     498425\n",
       "crackers                          458838\n",
       "energy granola bars               456386\n",
       "eggs                              452134\n",
       "lunch meat                        395130\n",
       "frozen meals                      390299\n",
       "baby food formula                 382456\n",
       "fresh herbs                       377741\n",
       "Name: aisle, dtype: int64"
      ]
     },
     "execution_count": 16,
     "metadata": {},
     "output_type": "execute_result"
    }
   ],
   "source": [
    "dados = tabela_final.groupby('aisle')['aisle'].count().sort_values(ascending=False).head(20)\n",
    "dados"
   ]
  },
  {
   "cell_type": "code",
   "execution_count": 22,
   "id": "c127e17a-4410-406b-8030-54768c5012a7",
   "metadata": {},
   "outputs": [
    {
     "data": {
      "image/png": "[encoded data removed]",
      "text/plain": [
       "<Figure size 1400x400 with 1 Axes>"
      ]
     },
     "metadata": {},
     "output_type": "display_data"
    }
   ],
   "source": [
    "cria_graficos(dados, 'Número de pedidos por corredor','corredor')"
   ]
  },
  {
   "cell_type": "markdown",
   "id": "3b8f6f23-2318-4470-b884-1c2d76982095",
   "metadata": {},
   "source": [
    "### 6 - Quais os 20 principais produtos por frequência de pedidos"
   ]
  },
  {
   "cell_type": "code",
   "execution_count": 25,
   "id": "bdb4fb07-094c-4fbe-a99f-118f6d4335f6",
   "metadata": {},
   "outputs": [
    {
     "data": {
      "text/plain": [
       "product_name\n",
       "Banana                      472565\n",
       "Bag of Organic Bananas      379450\n",
       "Organic Strawberries        264683\n",
       "Organic Baby Spinach        241921\n",
       "Organic Hass Avocado        213584\n",
       "Organic Avocado             176815\n",
       "Large Lemon                 152657\n",
       "Strawberries                142951\n",
       "Limes                       140627\n",
       "Organic Whole Milk          137905\n",
       "Organic Raspberries         137057\n",
       "Organic Yellow Onion        113426\n",
       "Organic Garlic              109778\n",
       "Organic Zucchini            104823\n",
       "Organic Blueberries         100060\n",
       "Cucumber Kirby               97315\n",
       "Organic Fuji Apple           89632\n",
       "Organic Lemon                87746\n",
       "Apple Honeycrisp Organic     85020\n",
       "Organic Grape Tomatoes       84255\n",
       "Name: product_name, dtype: int64"
      ]
     },
     "execution_count": 25,
     "metadata": {},
     "output_type": "execute_result"
    }
   ],
   "source": [
    "prod = tabela_final.groupby('product_name')['product_name'].count().sort_values(ascending=False).head(20)\n",
    "prod"
   ]
  },
  {
   "cell_type": "code",
   "execution_count": 26,
   "id": "209c4bb1-1e2a-4b30-8290-363ec193296c",
   "metadata": {},
   "outputs": [
    {
     "data": {
      "image/png": "[encoded data removed]",
      "text/plain": [
       "<Figure size 1400x400 with 1 Axes>"
      ]
     },
     "metadata": {},
     "output_type": "display_data"
    }
   ],
   "source": [
    "cria_graficos(prod,'Número de pedidos por produto','Produtos')"
   ]
  },
  {
   "cell_type": "code",
   "execution_count": 39,
   "id": "5febc715-bf71-4795-9d6b-b9061d43ba2e",
   "metadata": {},
   "outputs": [
    {
     "data": {
      "text/plain": [
       "Index(['product_id', 'product_name', 'aisle_id', 'department_id', 'aisle',\n",
       "       'department', 'order_id', 'add_to_cart_order', 'reordered', 'user_id',\n",
       "       'eval_set', 'order_number', 'order_dow', 'order_hour_of_day',\n",
       "       'days_since_prior_order'],\n",
       "      dtype='object')"
      ]
     },
     "execution_count": 39,
     "metadata": {},
     "output_type": "execute_result"
    }
   ],
   "source": [
    "tabela_final.columns"
   ]
  },
  {
   "cell_type": "markdown",
   "id": "39761496-9131-429b-bd6e-f431a85dc25c",
   "metadata": {},
   "source": [
    "### 7 - Análise de novos pedidos semelhantes e pedidos anteriores (Reorder)"
   ]
  },
  {
   "cell_type": "code",
   "execution_count": 36,
   "id": "d74b33a5-f5b2-4a44-8a70-07ec9f9595c5",
   "metadata": {},
   "outputs": [
    {
     "name": "stdout",
     "output_type": "stream",
     "text": [
      "CPU times: total: 4.7 s\n",
      "Wall time: 4.79 s\n"
     ]
    }
   ],
   "source": [
    "%%time\n",
    "dados = tabela_final.groupby('product_name')['reordered'].agg(['count','sum']).rename(columns = {'count':'total','sum':'reorders'})\n",
    "dados = dados.sort_values('total',ascending = False).reset_index()"
   ]
  },
  {
   "cell_type": "code",
   "execution_count": 37,
   "id": "fd7c2c6c-1968-4c1a-b8bd-e917c7227597",
   "metadata": {},
   "outputs": [
    {
     "data": {
      "text/html": [
       "<div>\n",
       "<style scoped>\n",
       "    .dataframe tbody tr th:only-of-type {\n",
       "        vertical-align: middle;\n",
       "    }\n",
       "\n",
       "    .dataframe tbody tr th {\n",
       "        vertical-align: top;\n",
       "    }\n",
       "\n",
       "    .dataframe thead th {\n",
       "        text-align: right;\n",
       "    }\n",
       "</style>\n",
       "<table border=\"1\" class=\"dataframe\">\n",
       "  <thead>\n",
       "    <tr style=\"text-align: right;\">\n",
       "      <th></th>\n",
       "      <th>product_name</th>\n",
       "      <th>total</th>\n",
       "      <th>reorders</th>\n",
       "    </tr>\n",
       "  </thead>\n",
       "  <tbody>\n",
       "    <tr>\n",
       "      <th>0</th>\n",
       "      <td>Banana</td>\n",
       "      <td>472565</td>\n",
       "      <td>398609</td>\n",
       "    </tr>\n",
       "    <tr>\n",
       "      <th>1</th>\n",
       "      <td>Bag of Organic Bananas</td>\n",
       "      <td>379450</td>\n",
       "      <td>315913</td>\n",
       "    </tr>\n",
       "    <tr>\n",
       "      <th>2</th>\n",
       "      <td>Organic Strawberries</td>\n",
       "      <td>264683</td>\n",
       "      <td>205845</td>\n",
       "    </tr>\n",
       "    <tr>\n",
       "      <th>3</th>\n",
       "      <td>Organic Baby Spinach</td>\n",
       "      <td>241921</td>\n",
       "      <td>186884</td>\n",
       "    </tr>\n",
       "    <tr>\n",
       "      <th>4</th>\n",
       "      <td>Organic Hass Avocado</td>\n",
       "      <td>213584</td>\n",
       "      <td>170131</td>\n",
       "    </tr>\n",
       "  </tbody>\n",
       "</table>\n",
       "</div>"
      ],
      "text/plain": [
       "             product_name   total  reorders\n",
       "0                  Banana  472565    398609\n",
       "1  Bag of Organic Bananas  379450    315913\n",
       "2    Organic Strawberries  264683    205845\n",
       "3    Organic Baby Spinach  241921    186884\n",
       "4    Organic Hass Avocado  213584    170131"
      ]
     },
     "execution_count": 37,
     "metadata": {},
     "output_type": "execute_result"
    }
   ],
   "source": [
    "dados.head()"
   ]
  },
  {
   "cell_type": "markdown",
   "id": "3730b852-074a-4923-b8a2-9e557cef91c9",
   "metadata": {},
   "source": [
    "# 8 - Análise de Reorder por Departamento ao longo do tempo"
   ]
  },
  {
   "cell_type": "code",
   "execution_count": 45,
   "id": "7ef0e644-244e-4e3d-aa53-e3a33313b5a5",
   "metadata": {},
   "outputs": [
    {
     "data": {
      "text/html": [
       "<div>\n",
       "<style scoped>\n",
       "    .dataframe tbody tr th:only-of-type {\n",
       "        vertical-align: middle;\n",
       "    }\n",
       "\n",
       "    .dataframe tbody tr th {\n",
       "        vertical-align: top;\n",
       "    }\n",
       "\n",
       "    .dataframe thead th {\n",
       "        text-align: right;\n",
       "    }\n",
       "</style>\n",
       "<table border=\"1\" class=\"dataframe\">\n",
       "  <thead>\n",
       "    <tr style=\"text-align: right;\">\n",
       "      <th></th>\n",
       "      <th>department</th>\n",
       "      <th>reordered</th>\n",
       "    </tr>\n",
       "  </thead>\n",
       "  <tbody>\n",
       "    <tr>\n",
       "      <th>7</th>\n",
       "      <td>dairy eggs</td>\n",
       "      <td>0.669969</td>\n",
       "    </tr>\n",
       "    <tr>\n",
       "      <th>3</th>\n",
       "      <td>beverages</td>\n",
       "      <td>0.653460</td>\n",
       "    </tr>\n",
       "    <tr>\n",
       "      <th>19</th>\n",
       "      <td>produce</td>\n",
       "      <td>0.649913</td>\n",
       "    </tr>\n",
       "    <tr>\n",
       "      <th>2</th>\n",
       "      <td>bakery</td>\n",
       "      <td>0.628141</td>\n",
       "    </tr>\n",
       "    <tr>\n",
       "      <th>8</th>\n",
       "      <td>deli</td>\n",
       "      <td>0.607719</td>\n",
       "    </tr>\n",
       "    <tr>\n",
       "      <th>18</th>\n",
       "      <td>pets</td>\n",
       "      <td>0.601285</td>\n",
       "    </tr>\n",
       "    <tr>\n",
       "      <th>1</th>\n",
       "      <td>babies</td>\n",
       "      <td>0.578971</td>\n",
       "    </tr>\n",
       "    <tr>\n",
       "      <th>5</th>\n",
       "      <td>bulk</td>\n",
       "      <td>0.577040</td>\n",
       "    </tr>\n",
       "    <tr>\n",
       "      <th>20</th>\n",
       "      <td>snacks</td>\n",
       "      <td>0.574180</td>\n",
       "    </tr>\n",
       "    <tr>\n",
       "      <th>0</th>\n",
       "      <td>alcohol</td>\n",
       "      <td>0.569924</td>\n",
       "    </tr>\n",
       "    <tr>\n",
       "      <th>13</th>\n",
       "      <td>meat seafood</td>\n",
       "      <td>0.567674</td>\n",
       "    </tr>\n",
       "    <tr>\n",
       "      <th>4</th>\n",
       "      <td>breakfast</td>\n",
       "      <td>0.560922</td>\n",
       "    </tr>\n",
       "    <tr>\n",
       "      <th>10</th>\n",
       "      <td>frozen</td>\n",
       "      <td>0.541885</td>\n",
       "    </tr>\n",
       "    <tr>\n",
       "      <th>9</th>\n",
       "      <td>dry goods pasta</td>\n",
       "      <td>0.461076</td>\n",
       "    </tr>\n",
       "    <tr>\n",
       "      <th>6</th>\n",
       "      <td>canned goods</td>\n",
       "      <td>0.457405</td>\n",
       "    </tr>\n",
       "    <tr>\n",
       "      <th>15</th>\n",
       "      <td>other</td>\n",
       "      <td>0.407980</td>\n",
       "    </tr>\n",
       "    <tr>\n",
       "      <th>11</th>\n",
       "      <td>household</td>\n",
       "      <td>0.402178</td>\n",
       "    </tr>\n",
       "    <tr>\n",
       "      <th>14</th>\n",
       "      <td>missing</td>\n",
       "      <td>0.395849</td>\n",
       "    </tr>\n",
       "    <tr>\n",
       "      <th>12</th>\n",
       "      <td>international</td>\n",
       "      <td>0.369229</td>\n",
       "    </tr>\n",
       "    <tr>\n",
       "      <th>16</th>\n",
       "      <td>pantry</td>\n",
       "      <td>0.346721</td>\n",
       "    </tr>\n",
       "    <tr>\n",
       "      <th>17</th>\n",
       "      <td>personal care</td>\n",
       "      <td>0.321129</td>\n",
       "    </tr>\n",
       "  </tbody>\n",
       "</table>\n",
       "</div>"
      ],
      "text/plain": [
       "         department  reordered\n",
       "7        dairy eggs   0.669969\n",
       "3         beverages   0.653460\n",
       "19          produce   0.649913\n",
       "2            bakery   0.628141\n",
       "8              deli   0.607719\n",
       "18             pets   0.601285\n",
       "1            babies   0.578971\n",
       "5              bulk   0.577040\n",
       "20           snacks   0.574180\n",
       "0           alcohol   0.569924\n",
       "13     meat seafood   0.567674\n",
       "4         breakfast   0.560922\n",
       "10           frozen   0.541885\n",
       "9   dry goods pasta   0.461076\n",
       "6      canned goods   0.457405\n",
       "15            other   0.407980\n",
       "11        household   0.402178\n",
       "14          missing   0.395849\n",
       "12    international   0.369229\n",
       "16           pantry   0.346721\n",
       "17    personal care   0.321129"
      ]
     },
     "execution_count": 45,
     "metadata": {},
     "output_type": "execute_result"
    }
   ],
   "source": [
    "reorder = tabela_final.groupby('department')['reordered'].aggregate('mean').reset_index()\n",
    "reorder.sort_values('reordered',ascending = False)"
   ]
  },
  {
   "cell_type": "markdown",
   "id": "9781baa1-5668-406a-841a-29aa87089d5e",
   "metadata": {},
   "source": [
    "# Análise de pedidos reorder e departamento"
   ]
  },
  {
   "cell_type": "code",
   "execution_count": 57,
   "id": "e3b072fb-7768-47d5-93e3-b4d326dfd313",
   "metadata": {},
   "outputs": [
    {
     "data": {
      "text/html": [
       "<div>\n",
       "<style scoped>\n",
       "    .dataframe tbody tr th:only-of-type {\n",
       "        vertical-align: middle;\n",
       "    }\n",
       "\n",
       "    .dataframe tbody tr th {\n",
       "        vertical-align: top;\n",
       "    }\n",
       "\n",
       "    .dataframe thead th {\n",
       "        text-align: right;\n",
       "    }\n",
       "</style>\n",
       "<table border=\"1\" class=\"dataframe\">\n",
       "  <thead>\n",
       "    <tr style=\"text-align: right;\">\n",
       "      <th></th>\n",
       "      <th>department</th>\n",
       "      <th>total</th>\n",
       "      <th>reordered</th>\n",
       "    </tr>\n",
       "  </thead>\n",
       "  <tbody>\n",
       "    <tr>\n",
       "      <th>19</th>\n",
       "      <td>produce</td>\n",
       "      <td>9479291</td>\n",
       "      <td>6160710</td>\n",
       "    </tr>\n",
       "    <tr>\n",
       "      <th>7</th>\n",
       "      <td>dairy eggs</td>\n",
       "      <td>5414016</td>\n",
       "      <td>3627221</td>\n",
       "    </tr>\n",
       "    <tr>\n",
       "      <th>3</th>\n",
       "      <td>beverages</td>\n",
       "      <td>2690129</td>\n",
       "      <td>1757892</td>\n",
       "    </tr>\n",
       "    <tr>\n",
       "      <th>20</th>\n",
       "      <td>snacks</td>\n",
       "      <td>2887550</td>\n",
       "      <td>1657973</td>\n",
       "    </tr>\n",
       "    <tr>\n",
       "      <th>10</th>\n",
       "      <td>frozen</td>\n",
       "      <td>2236432</td>\n",
       "      <td>1211890</td>\n",
       "    </tr>\n",
       "    <tr>\n",
       "      <th>2</th>\n",
       "      <td>bakery</td>\n",
       "      <td>1176787</td>\n",
       "      <td>739188</td>\n",
       "    </tr>\n",
       "    <tr>\n",
       "      <th>16</th>\n",
       "      <td>pantry</td>\n",
       "      <td>1875577</td>\n",
       "      <td>650301</td>\n",
       "    </tr>\n",
       "    <tr>\n",
       "      <th>8</th>\n",
       "      <td>deli</td>\n",
       "      <td>1051249</td>\n",
       "      <td>638864</td>\n",
       "    </tr>\n",
       "    <tr>\n",
       "      <th>6</th>\n",
       "      <td>canned goods</td>\n",
       "      <td>1068058</td>\n",
       "      <td>488535</td>\n",
       "    </tr>\n",
       "    <tr>\n",
       "      <th>13</th>\n",
       "      <td>meat seafood</td>\n",
       "      <td>708931</td>\n",
       "      <td>402442</td>\n",
       "    </tr>\n",
       "    <tr>\n",
       "      <th>9</th>\n",
       "      <td>dry goods pasta</td>\n",
       "      <td>866627</td>\n",
       "      <td>399581</td>\n",
       "    </tr>\n",
       "    <tr>\n",
       "      <th>4</th>\n",
       "      <td>breakfast</td>\n",
       "      <td>709569</td>\n",
       "      <td>398013</td>\n",
       "    </tr>\n",
       "    <tr>\n",
       "      <th>11</th>\n",
       "      <td>household</td>\n",
       "      <td>738666</td>\n",
       "      <td>297075</td>\n",
       "    </tr>\n",
       "    <tr>\n",
       "      <th>1</th>\n",
       "      <td>babies</td>\n",
       "      <td>423802</td>\n",
       "      <td>245369</td>\n",
       "    </tr>\n",
       "    <tr>\n",
       "      <th>17</th>\n",
       "      <td>personal care</td>\n",
       "      <td>447123</td>\n",
       "      <td>143584</td>\n",
       "    </tr>\n",
       "    <tr>\n",
       "      <th>12</th>\n",
       "      <td>international</td>\n",
       "      <td>269253</td>\n",
       "      <td>99416</td>\n",
       "    </tr>\n",
       "    <tr>\n",
       "      <th>0</th>\n",
       "      <td>alcohol</td>\n",
       "      <td>153696</td>\n",
       "      <td>87595</td>\n",
       "    </tr>\n",
       "    <tr>\n",
       "      <th>18</th>\n",
       "      <td>pets</td>\n",
       "      <td>97724</td>\n",
       "      <td>58760</td>\n",
       "    </tr>\n",
       "    <tr>\n",
       "      <th>14</th>\n",
       "      <td>missing</td>\n",
       "      <td>69145</td>\n",
       "      <td>27371</td>\n",
       "    </tr>\n",
       "    <tr>\n",
       "      <th>5</th>\n",
       "      <td>bulk</td>\n",
       "      <td>34573</td>\n",
       "      <td>19950</td>\n",
       "    </tr>\n",
       "    <tr>\n",
       "      <th>15</th>\n",
       "      <td>other</td>\n",
       "      <td>36291</td>\n",
       "      <td>14806</td>\n",
       "    </tr>\n",
       "  </tbody>\n",
       "</table>\n",
       "</div>"
      ],
      "text/plain": [
       "         department    total  reordered\n",
       "19          produce  9479291    6160710\n",
       "7        dairy eggs  5414016    3627221\n",
       "3         beverages  2690129    1757892\n",
       "20           snacks  2887550    1657973\n",
       "10           frozen  2236432    1211890\n",
       "2            bakery  1176787     739188\n",
       "16           pantry  1875577     650301\n",
       "8              deli  1051249     638864\n",
       "6      canned goods  1068058     488535\n",
       "13     meat seafood   708931     402442\n",
       "9   dry goods pasta   866627     399581\n",
       "4         breakfast   709569     398013\n",
       "11        household   738666     297075\n",
       "1            babies   423802     245369\n",
       "17    personal care   447123     143584\n",
       "12    international   269253      99416\n",
       "0           alcohol   153696      87595\n",
       "18             pets    97724      58760\n",
       "14          missing    69145      27371\n",
       "5              bulk    34573      19950\n",
       "15            other    36291      14806"
      ]
     },
     "execution_count": 57,
     "metadata": {},
     "output_type": "execute_result"
    }
   ],
   "source": [
    "reorder = tabela_final.groupby('department')['reordered'].agg(['count','sum']).rename(columns = {'count':'total','sum':'reordered'}).reset_index()\n",
    "reorder.sort_values('reordered',ascending = False)"
   ]
  },
  {
   "cell_type": "markdown",
   "id": "324d2eea-941e-4313-aa8e-d1499e5a8597",
   "metadata": {},
   "source": [
    "# 10- Análise de reorder por corredor"
   ]
  },
  {
   "cell_type": "code",
   "execution_count": 66,
   "id": "3924128f-75da-4b12-95db-83dbf3866c91",
   "metadata": {},
   "outputs": [
    {
     "data": {
      "text/html": [
       "<div>\n",
       "<style scoped>\n",
       "    .dataframe tbody tr th:only-of-type {\n",
       "        vertical-align: middle;\n",
       "    }\n",
       "\n",
       "    .dataframe tbody tr th {\n",
       "        vertical-align: top;\n",
       "    }\n",
       "\n",
       "    .dataframe thead th {\n",
       "        text-align: right;\n",
       "    }\n",
       "</style>\n",
       "<table border=\"1\" class=\"dataframe\">\n",
       "  <thead>\n",
       "    <tr style=\"text-align: right;\">\n",
       "      <th></th>\n",
       "      <th>aisle</th>\n",
       "      <th>reordered</th>\n",
       "    </tr>\n",
       "  </thead>\n",
       "  <tbody>\n",
       "    <tr>\n",
       "      <th>83</th>\n",
       "      <td>milk</td>\n",
       "      <td>0.781428</td>\n",
       "    </tr>\n",
       "    <tr>\n",
       "      <th>131</th>\n",
       "      <td>water seltzer sparkling water</td>\n",
       "      <td>0.729593</td>\n",
       "    </tr>\n",
       "    <tr>\n",
       "      <th>50</th>\n",
       "      <td>fresh fruits</td>\n",
       "      <td>0.718104</td>\n",
       "    </tr>\n",
       "    <tr>\n",
       "      <th>41</th>\n",
       "      <td>eggs</td>\n",
       "      <td>0.705366</td>\n",
       "    </tr>\n",
       "    <tr>\n",
       "      <th>119</th>\n",
       "      <td>soy lactosefree</td>\n",
       "      <td>0.692551</td>\n",
       "    </tr>\n",
       "    <tr>\n",
       "      <th>96</th>\n",
       "      <td>packaged produce</td>\n",
       "      <td>0.690734</td>\n",
       "    </tr>\n",
       "    <tr>\n",
       "      <th>133</th>\n",
       "      <td>yogurt</td>\n",
       "      <td>0.686489</td>\n",
       "    </tr>\n",
       "    <tr>\n",
       "      <th>33</th>\n",
       "      <td>cream</td>\n",
       "      <td>0.685046</td>\n",
       "    </tr>\n",
       "    <tr>\n",
       "      <th>11</th>\n",
       "      <td>bread</td>\n",
       "      <td>0.670168</td>\n",
       "    </tr>\n",
       "    <tr>\n",
       "      <th>110</th>\n",
       "      <td>refrigerated</td>\n",
       "      <td>0.663302</td>\n",
       "    </tr>\n",
       "    <tr>\n",
       "      <th>12</th>\n",
       "      <td>breakfast bakery</td>\n",
       "      <td>0.651222</td>\n",
       "    </tr>\n",
       "    <tr>\n",
       "      <th>43</th>\n",
       "      <td>energy sports drinks</td>\n",
       "      <td>0.649607</td>\n",
       "    </tr>\n",
       "    <tr>\n",
       "      <th>117</th>\n",
       "      <td>soft drinks</td>\n",
       "      <td>0.638832</td>\n",
       "    </tr>\n",
       "    <tr>\n",
       "      <th>98</th>\n",
       "      <td>packaged vegetables fruits</td>\n",
       "      <td>0.638514</td>\n",
       "    </tr>\n",
       "    <tr>\n",
       "      <th>132</th>\n",
       "      <td>white wines</td>\n",
       "      <td>0.630081</td>\n",
       "    </tr>\n",
       "    <tr>\n",
       "      <th>56</th>\n",
       "      <td>frozen breakfast</td>\n",
       "      <td>0.626221</td>\n",
       "    </tr>\n",
       "    <tr>\n",
       "      <th>23</th>\n",
       "      <td>cat food care</td>\n",
       "      <td>0.620883</td>\n",
       "    </tr>\n",
       "    <tr>\n",
       "      <th>14</th>\n",
       "      <td>bulk dried fruits vegetables</td>\n",
       "      <td>0.620394</td>\n",
       "    </tr>\n",
       "    <tr>\n",
       "      <th>128</th>\n",
       "      <td>trail mix snack mix</td>\n",
       "      <td>0.620230</td>\n",
       "    </tr>\n",
       "    <tr>\n",
       "      <th>105</th>\n",
       "      <td>prepared meals</td>\n",
       "      <td>0.619759</td>\n",
       "    </tr>\n",
       "  </tbody>\n",
       "</table>\n",
       "</div>"
      ],
      "text/plain": [
       "                             aisle  reordered\n",
       "83                            milk   0.781428\n",
       "131  water seltzer sparkling water   0.729593\n",
       "50                    fresh fruits   0.718104\n",
       "41                            eggs   0.705366\n",
       "119                soy lactosefree   0.692551\n",
       "96                packaged produce   0.690734\n",
       "133                         yogurt   0.686489\n",
       "33                           cream   0.685046\n",
       "11                           bread   0.670168\n",
       "110                   refrigerated   0.663302\n",
       "12                breakfast bakery   0.651222\n",
       "43            energy sports drinks   0.649607\n",
       "117                    soft drinks   0.638832\n",
       "98      packaged vegetables fruits   0.638514\n",
       "132                    white wines   0.630081\n",
       "56                frozen breakfast   0.626221\n",
       "23                   cat food care   0.620883\n",
       "14    bulk dried fruits vegetables   0.620394\n",
       "128            trail mix snack mix   0.620230\n",
       "105                 prepared meals   0.619759"
      ]
     },
     "execution_count": 66,
     "metadata": {},
     "output_type": "execute_result"
    }
   ],
   "source": [
    "reorder = tabela_final.groupby('aisle')['reordered'].mean().reset_index().sort_values('reordered',ascending=False).head(20)\n",
    "reorder"
   ]
  },
  {
   "cell_type": "markdown",
   "id": "a61c75fd-6290-4453-af58-ce1eb2577aeb",
   "metadata": {},
   "source": [
    "# implementando o algoritmo apriori\n",
    "\n",
    "O algoritmo Apriori é utilizado para análise de associação de regras, que é comumente usada em mineração de dados para descobrir relações entre variáveis em grandes bases de dados. Neste contexto, ele é usado para encontrar padrões de compra frequentes, ou seja, quais produtos são frequentemente comprados juntos. "
   ]
  },
  {
   "cell_type": "code",
   "execution_count": 55,
   "id": "cd707657-3324-4319-aa62-fc5af7f02680",
   "metadata": {},
   "outputs": [],
   "source": [
    "transacoes_mba = pd.read_csv('transacoes_mba.csv', usecols=['id_pedido','Produtos'])"
   ]
  },
  {
   "cell_type": "code",
   "execution_count": 56,
   "id": "808e1f15-75a4-45cf-98bd-4c13cf4e7742",
   "metadata": {},
   "outputs": [
    {
     "data": {
      "text/html": [
       "<div>\n",
       "<style scoped>\n",
       "    .dataframe tbody tr th:only-of-type {\n",
       "        vertical-align: middle;\n",
       "    }\n",
       "\n",
       "    .dataframe tbody tr th {\n",
       "        vertical-align: top;\n",
       "    }\n",
       "\n",
       "    .dataframe thead th {\n",
       "        text-align: right;\n",
       "    }\n",
       "</style>\n",
       "<table border=\"1\" class=\"dataframe\">\n",
       "  <thead>\n",
       "    <tr style=\"text-align: right;\">\n",
       "      <th></th>\n",
       "      <th>id_pedido</th>\n",
       "      <th>Produtos</th>\n",
       "    </tr>\n",
       "  </thead>\n",
       "  <tbody>\n",
       "    <tr>\n",
       "      <th>0</th>\n",
       "      <td>2</td>\n",
       "      <td>[1819, 9327, 17794, 28985, 30035, 33120, 40141...</td>\n",
       "    </tr>\n",
       "    <tr>\n",
       "      <th>1</th>\n",
       "      <td>3</td>\n",
       "      <td>[17461, 17668, 17704, 21903, 24838, 32665, 337...</td>\n",
       "    </tr>\n",
       "    <tr>\n",
       "      <th>2</th>\n",
       "      <td>4</td>\n",
       "      <td>[10054, 17616, 21351, 22598, 25146, 26434, 277...</td>\n",
       "    </tr>\n",
       "    <tr>\n",
       "      <th>3</th>\n",
       "      <td>5</td>\n",
       "      <td>[6184, 6348, 8479, 9633, 12962, 13176, 13245, ...</td>\n",
       "    </tr>\n",
       "    <tr>\n",
       "      <th>4</th>\n",
       "      <td>6</td>\n",
       "      <td>[15873, 40462, 41897]</td>\n",
       "    </tr>\n",
       "    <tr>\n",
       "      <th>...</th>\n",
       "      <td>...</td>\n",
       "      <td>...</td>\n",
       "    </tr>\n",
       "    <tr>\n",
       "      <th>95</th>\n",
       "      <td>103</td>\n",
       "      <td>[1695, 5794, 30850, 40386]</td>\n",
       "    </tr>\n",
       "    <tr>\n",
       "      <th>96</th>\n",
       "      <td>104</td>\n",
       "      <td>[5212, 22124, 26604, 28745]</td>\n",
       "    </tr>\n",
       "    <tr>\n",
       "      <th>97</th>\n",
       "      <td>105</td>\n",
       "      <td>[1194, 4210, 4920, 11712, 12276, 13176, 17600,...</td>\n",
       "    </tr>\n",
       "    <tr>\n",
       "      <th>98</th>\n",
       "      <td>106</td>\n",
       "      <td>[2839, 4210, 4497, 5048, 5672, 11210, 12945, 1...</td>\n",
       "    </tr>\n",
       "    <tr>\n",
       "      <th>99</th>\n",
       "      <td>107</td>\n",
       "      <td>[11513, 16953, 30391, 31577, 35535, 43394, 47783]</td>\n",
       "    </tr>\n",
       "  </tbody>\n",
       "</table>\n",
       "<p>100 rows × 2 columns</p>\n",
       "</div>"
      ],
      "text/plain": [
       "    id_pedido                                           Produtos\n",
       "0           2  [1819, 9327, 17794, 28985, 30035, 33120, 40141...\n",
       "1           3  [17461, 17668, 17704, 21903, 24838, 32665, 337...\n",
       "2           4  [10054, 17616, 21351, 22598, 25146, 26434, 277...\n",
       "3           5  [6184, 6348, 8479, 9633, 12962, 13176, 13245, ...\n",
       "4           6                              [15873, 40462, 41897]\n",
       "..        ...                                                ...\n",
       "95        103                         [1695, 5794, 30850, 40386]\n",
       "96        104                        [5212, 22124, 26604, 28745]\n",
       "97        105  [1194, 4210, 4920, 11712, 12276, 13176, 17600,...\n",
       "98        106  [2839, 4210, 4497, 5048, 5672, 11210, 12945, 1...\n",
       "99        107  [11513, 16953, 30391, 31577, 35535, 43394, 47783]\n",
       "\n",
       "[100 rows x 2 columns]"
      ]
     },
     "execution_count": 56,
     "metadata": {},
     "output_type": "execute_result"
    }
   ],
   "source": [
    "transacoes_mba.head(100)"
   ]
  },
  {
   "cell_type": "code",
   "execution_count": 57,
   "id": "b111ddfd-4818-43f5-8ca3-a2a72cefcb13",
   "metadata": {},
   "outputs": [
    {
     "name": "stderr",
     "output_type": "stream",
     "text": [
      "100%|██████████████████████████████████████████████████████████████████████████████████████████████████████████████████████████████████████████████████████████████| 3214874/3214874 [02:13<00:00, 24073.01it/s]\n"
     ]
    }
   ],
   "source": [
    "# Aplicando a alteraçãpo do tipo de dados para garantir que eu tenha uma lista de números e não de strings\n",
    "\n",
    "# Ativa o tqdm para pandas\n",
    "tqdm.pandas()\n",
    "\n",
    "# Aplica com barra de progresso\n",
    "transacoes_mba['Produtos'] = transacoes_mba['Produtos'].progress_apply(ast.literal_eval)"
   ]
  },
  {
   "cell_type": "code",
   "execution_count": 58,
   "id": "cd4d4f3d-78d9-4dd2-b3fe-1eb5018e36a2",
   "metadata": {},
   "outputs": [
    {
     "data": {
      "text/html": [
       "<div>\n",
       "<style scoped>\n",
       "    .dataframe tbody tr th:only-of-type {\n",
       "        vertical-align: middle;\n",
       "    }\n",
       "\n",
       "    .dataframe tbody tr th {\n",
       "        vertical-align: top;\n",
       "    }\n",
       "\n",
       "    .dataframe thead th {\n",
       "        text-align: right;\n",
       "    }\n",
       "</style>\n",
       "<table border=\"1\" class=\"dataframe\">\n",
       "  <thead>\n",
       "    <tr style=\"text-align: right;\">\n",
       "      <th></th>\n",
       "      <th>id_pedido</th>\n",
       "      <th>Produtos</th>\n",
       "    </tr>\n",
       "  </thead>\n",
       "  <tbody>\n",
       "    <tr>\n",
       "      <th>0</th>\n",
       "      <td>2</td>\n",
       "      <td>[1819, 9327, 17794, 28985, 30035, 33120, 40141...</td>\n",
       "    </tr>\n",
       "    <tr>\n",
       "      <th>1</th>\n",
       "      <td>3</td>\n",
       "      <td>[17461, 17668, 17704, 21903, 24838, 32665, 337...</td>\n",
       "    </tr>\n",
       "    <tr>\n",
       "      <th>2</th>\n",
       "      <td>4</td>\n",
       "      <td>[10054, 17616, 21351, 22598, 25146, 26434, 277...</td>\n",
       "    </tr>\n",
       "    <tr>\n",
       "      <th>3</th>\n",
       "      <td>5</td>\n",
       "      <td>[6184, 6348, 8479, 9633, 12962, 13176, 13245, ...</td>\n",
       "    </tr>\n",
       "    <tr>\n",
       "      <th>4</th>\n",
       "      <td>6</td>\n",
       "      <td>[15873, 40462, 41897]</td>\n",
       "    </tr>\n",
       "  </tbody>\n",
       "</table>\n",
       "</div>"
      ],
      "text/plain": [
       "   id_pedido                                           Produtos\n",
       "0          2  [1819, 9327, 17794, 28985, 30035, 33120, 40141...\n",
       "1          3  [17461, 17668, 17704, 21903, 24838, 32665, 337...\n",
       "2          4  [10054, 17616, 21351, 22598, 25146, 26434, 277...\n",
       "3          5  [6184, 6348, 8479, 9633, 12962, 13176, 13245, ...\n",
       "4          6                              [15873, 40462, 41897]"
      ]
     },
     "execution_count": 58,
     "metadata": {},
     "output_type": "execute_result"
    }
   ],
   "source": [
    "transacoes_mba.head()"
   ]
  },
  {
   "cell_type": "code",
   "execution_count": 59,
   "id": "7bfe4e67-7e5c-47cd-a00e-94aeae7c362b",
   "metadata": {},
   "outputs": [
    {
     "name": "stderr",
     "output_type": "stream",
     "text": [
      "100%|████████████████████████████████████████████████████████████████████████████████████████████████████████████████████████████████████████████████████████████| 3214874/3214874 [00:02<00:00, 1213406.68it/s]\n"
     ]
    }
   ],
   "source": [
    "# Prepara uma tupla com as transações\n",
    "\n",
    "transacoes_mba_tupla = [tuple(row) for row in tqdm(transacoes_mba['Produtos'].tolist())]"
   ]
  },
  {
   "cell_type": "code",
   "execution_count": 60,
   "id": "e409b5e2-e08e-49a0-bbd0-443be64d47fb",
   "metadata": {},
   "outputs": [
    {
     "data": {
      "text/plain": [
       "[(1819, 9327, 17794, 28985, 30035, 33120, 40141, 43668, 45918),\n",
       " (17461, 17668, 17704, 21903, 24838, 32665, 33754, 46667),\n",
       " (10054,\n",
       "  17616,\n",
       "  21351,\n",
       "  22598,\n",
       "  25146,\n",
       "  26434,\n",
       "  27761,\n",
       "  32645,\n",
       "  34862,\n",
       "  39758,\n",
       "  40285,\n",
       "  41276,\n",
       "  46842),\n",
       " (6184,\n",
       "  6348,\n",
       "  8479,\n",
       "  9633,\n",
       "  12962,\n",
       "  13176,\n",
       "  13245,\n",
       "  15005,\n",
       "  18569,\n",
       "  20914,\n",
       "  23909,\n",
       "  24773,\n",
       "  27360,\n",
       "  27966,\n",
       "  37011,\n",
       "  38693,\n",
       "  40878,\n",
       "  41176,\n",
       "  45698,\n",
       "  46522,\n",
       "  47209,\n",
       "  47329,\n",
       "  48002,\n",
       "  48366,\n",
       "  48370,\n",
       "  48825),\n",
       " (15873, 40462, 41897),\n",
       " (34050, 46802),\n",
       " (23423,),\n",
       " (432,\n",
       "  2014,\n",
       "  3990,\n",
       "  11182,\n",
       "  14183,\n",
       "  14992,\n",
       "  18362,\n",
       "  21405,\n",
       "  23288,\n",
       "  27366,\n",
       "  29193,\n",
       "  31506,\n",
       "  34203,\n",
       "  44533,\n",
       "  47890),\n",
       " (1529,\n",
       "  3464,\n",
       "  4605,\n",
       "  4796,\n",
       "  14992,\n",
       "  21137,\n",
       "  22122,\n",
       "  24852,\n",
       "  25720,\n",
       "  26842,\n",
       "  27156,\n",
       "  31717,\n",
       "  34134,\n",
       "  47766,\n",
       "  49235),\n",
       " (1313, 5994, 27085, 30162, 31506)]"
      ]
     },
     "execution_count": 60,
     "metadata": {},
     "output_type": "execute_result"
    }
   ],
   "source": [
    "transacoes_mba_tupla[0:10]"
   ]
  },
  {
   "cell_type": "code",
   "execution_count": 63,
   "id": "185cb2d1-898d-48d8-99ab-a05abfce7853",
   "metadata": {},
   "outputs": [
    {
     "name": "stdout",
     "output_type": "stream",
     "text": [
      "CPU times: total: 4.03 s\n",
      "Wall time: 4.12 s\n"
     ]
    }
   ],
   "source": [
    "%%time\n",
    "itemsets_ap, rules_ap = apriori(transacoes_mba_tupla[:500000], min_support = 0.01, min_confidence = 0.2,max_length=2)"
   ]
  },
  {
   "cell_type": "code",
   "execution_count": 64,
   "id": "5ac295da-9e14-40c3-a116-b07cd1ff2538",
   "metadata": {},
   "outputs": [
    {
     "data": {
      "text/plain": [
       "[{21137} -> {13176},\n",
       " {21903} -> {13176},\n",
       " {27966} -> {13176},\n",
       " {47209} -> {13176},\n",
       " {16797} -> {24852},\n",
       " {21137} -> {24852},\n",
       " {27966} -> {21137},\n",
       " {21903} -> {24852},\n",
       " {28204} -> {24852},\n",
       " {47626} -> {24852}]"
      ]
     },
     "execution_count": 64,
     "metadata": {},
     "output_type": "execute_result"
    }
   ],
   "source": [
    "rules_ap[:10]"
   ]
  },
  {
   "cell_type": "code",
   "execution_count": 65,
   "id": "9bc7576f-e50c-4d03-92e9-f14224cc8ca3",
   "metadata": {},
   "outputs": [],
   "source": [
    "# Vamos considerar alguns itens para nossa análise\n",
    "item_A = [27966,47209,21137,47766,21903,49683,47626,28204,16797,21903,21137,27966]\n",
    "item_B = [13176,13176,24852,24852,24852,24852,24852,24852,24852,13176,13176,21137]\n",
    "temp = pd.DataFrame()\n",
    "temp['itemA'] = item_A\n",
    "temp['itemB'] = item_B"
   ]
  },
  {
   "cell_type": "code",
   "execution_count": 66,
   "id": "c2528d36-8754-44f9-be6c-70688e31b79a",
   "metadata": {},
   "outputs": [
    {
     "data": {
      "text/html": [
       "<div>\n",
       "<style scoped>\n",
       "    .dataframe tbody tr th:only-of-type {\n",
       "        vertical-align: middle;\n",
       "    }\n",
       "\n",
       "    .dataframe tbody tr th {\n",
       "        vertical-align: top;\n",
       "    }\n",
       "\n",
       "    .dataframe thead th {\n",
       "        text-align: right;\n",
       "    }\n",
       "</style>\n",
       "<table border=\"1\" class=\"dataframe\">\n",
       "  <thead>\n",
       "    <tr style=\"text-align: right;\">\n",
       "      <th></th>\n",
       "      <th>itemA</th>\n",
       "      <th>itemB</th>\n",
       "    </tr>\n",
       "  </thead>\n",
       "  <tbody>\n",
       "    <tr>\n",
       "      <th>0</th>\n",
       "      <td>27966</td>\n",
       "      <td>13176</td>\n",
       "    </tr>\n",
       "    <tr>\n",
       "      <th>1</th>\n",
       "      <td>47209</td>\n",
       "      <td>13176</td>\n",
       "    </tr>\n",
       "    <tr>\n",
       "      <th>2</th>\n",
       "      <td>21137</td>\n",
       "      <td>24852</td>\n",
       "    </tr>\n",
       "    <tr>\n",
       "      <th>3</th>\n",
       "      <td>47766</td>\n",
       "      <td>24852</td>\n",
       "    </tr>\n",
       "    <tr>\n",
       "      <th>4</th>\n",
       "      <td>21903</td>\n",
       "      <td>24852</td>\n",
       "    </tr>\n",
       "    <tr>\n",
       "      <th>5</th>\n",
       "      <td>49683</td>\n",
       "      <td>24852</td>\n",
       "    </tr>\n",
       "    <tr>\n",
       "      <th>6</th>\n",
       "      <td>47626</td>\n",
       "      <td>24852</td>\n",
       "    </tr>\n",
       "    <tr>\n",
       "      <th>7</th>\n",
       "      <td>28204</td>\n",
       "      <td>24852</td>\n",
       "    </tr>\n",
       "    <tr>\n",
       "      <th>8</th>\n",
       "      <td>16797</td>\n",
       "      <td>24852</td>\n",
       "    </tr>\n",
       "    <tr>\n",
       "      <th>9</th>\n",
       "      <td>21903</td>\n",
       "      <td>13176</td>\n",
       "    </tr>\n",
       "    <tr>\n",
       "      <th>10</th>\n",
       "      <td>21137</td>\n",
       "      <td>13176</td>\n",
       "    </tr>\n",
       "    <tr>\n",
       "      <th>11</th>\n",
       "      <td>27966</td>\n",
       "      <td>21137</td>\n",
       "    </tr>\n",
       "  </tbody>\n",
       "</table>\n",
       "</div>"
      ],
      "text/plain": [
       "    itemA  itemB\n",
       "0   27966  13176\n",
       "1   47209  13176\n",
       "2   21137  24852\n",
       "3   47766  24852\n",
       "4   21903  24852\n",
       "5   49683  24852\n",
       "6   47626  24852\n",
       "7   28204  24852\n",
       "8   16797  24852\n",
       "9   21903  13176\n",
       "10  21137  13176\n",
       "11  27966  21137"
      ]
     },
     "execution_count": 66,
     "metadata": {},
     "output_type": "execute_result"
    }
   ],
   "source": [
    "temp"
   ]
  },
  {
   "cell_type": "code",
   "execution_count": 67,
   "id": "ae62f72f-32f8-49e6-9d05-329bf1297a0d",
   "metadata": {},
   "outputs": [],
   "source": [
    "# Listas para as métricas\n",
    "support_A = []\n",
    "support_B = []\n",
    "support_AB = []\n",
    "confidence_AB = []\n",
    "lift_AB = []"
   ]
  },
  {
   "cell_type": "code",
   "execution_count": 69,
   "id": "1479fd1a-4bd7-4bff-aa95-577a4260de55",
   "metadata": {},
   "outputs": [],
   "source": [
    "# Loop\n",
    "for i in range(len(temp)):\n",
    "    \n",
    "    # Calcula o support de A\n",
    "    support_A.append(itemsets_ap[1][tuple([temp['itemA'][i],])] / len(temp))\n",
    "    \n",
    "    # Calcula o support de B\n",
    "    support_B.append(itemsets_ap[1][tuple([temp['itemB'][i],])] / len(temp))\n",
    "    \n",
    "    # Calcula o support de A e B\n",
    "    if tuple([temp['itemA'][i],temp['itemB'][i]]) in itemsets_ap[2].keys():\n",
    "        support_AB.append(itemsets_ap[2][tuple([temp['itemA'][i],temp['itemB'][i]])] / 30000)\n",
    "    else:\n",
    "        support_AB.append(itemsets_ap[2][tuple([temp['itemB'][i],temp['itemA'][i]])] / 30000)\n",
    "    \n",
    "    # Calcula a confidence\n",
    "    confidence_AB.append(support_AB[i] / support_A[i])\n",
    "    \n",
    "    # Calcula o lift\n",
    "    lift_AB.append(support_AB[i] / (support_A[i] * support_B[i]))"
   ]
  },
  {
   "cell_type": "code",
   "execution_count": 73,
   "id": "86ac8cba-9ab4-4460-b35b-fd0c173a6e7a",
   "metadata": {},
   "outputs": [],
   "source": [
    "# Dataframe com as regras de associação\n",
    "df_rules_ap = pd.DataFrame()\n",
    "df_rules_ap['product_id'] = item_A\n",
    "df_rules_ap = df_rules_ap.merge(dados_produtos, on = 'product_id', how = 'left')\n",
    "df_rules_ap['Product_A'] = df_rules_ap['product_name']\n",
    "df_rules_ap = df_rules_ap.drop(columns = ['product_id','product_name','aisle_id','department_id'], axis = 1)\n",
    "df_rules_ap['product_id'] = item_B\n",
    "df_rules_ap = df_rules_ap.merge(dados_produtos, on = 'product_id', how = 'left')\n",
    "df_rules_ap['Product_B'] = df_rules_ap['product_name']\n",
    "df_rules_ap = df_rules_ap.drop(columns = ['product_id','product_name','aisle_id','department_id'], axis = 1)\n",
    "df_rules_ap['Support_A'] = support_A\n",
    "df_rules_ap['Support_B'] = support_B\n",
    "df_rules_ap['Support_AB'] = support_AB\n",
    "df_rules_ap['Confidence_AB'] = confidence_AB\n",
    "df_rules_ap['Lift_AB'] = lift_AB"
   ]
  },
  {
   "cell_type": "code",
   "execution_count": 74,
   "id": "0dd15a19-3085-40d6-aecf-dc1de687d7f0",
   "metadata": {},
   "outputs": [
    {
     "data": {
      "text/html": [
       "<div>\n",
       "<style scoped>\n",
       "    .dataframe tbody tr th:only-of-type {\n",
       "        vertical-align: middle;\n",
       "    }\n",
       "\n",
       "    .dataframe tbody tr th {\n",
       "        vertical-align: top;\n",
       "    }\n",
       "\n",
       "    .dataframe thead th {\n",
       "        text-align: right;\n",
       "    }\n",
       "</style>\n",
       "<table border=\"1\" class=\"dataframe\">\n",
       "  <thead>\n",
       "    <tr style=\"text-align: right;\">\n",
       "      <th></th>\n",
       "      <th>Product_A</th>\n",
       "      <th>Product_B</th>\n",
       "      <th>Support_A</th>\n",
       "      <th>Support_B</th>\n",
       "      <th>Support_AB</th>\n",
       "      <th>Confidence_AB</th>\n",
       "      <th>Lift_AB</th>\n",
       "    </tr>\n",
       "  </thead>\n",
       "  <tbody>\n",
       "    <tr>\n",
       "      <th>0</th>\n",
       "      <td>Organic Raspberries</td>\n",
       "      <td>Bag of Organic Bananas</td>\n",
       "      <td>1763.916667</td>\n",
       "      <td>4908.416667</td>\n",
       "      <td>0.207133</td>\n",
       "      <td>0.000117</td>\n",
       "      <td>2.392382e-08</td>\n",
       "    </tr>\n",
       "    <tr>\n",
       "      <th>1</th>\n",
       "      <td>Organic Hass Avocado</td>\n",
       "      <td>Bag of Organic Bananas</td>\n",
       "      <td>2759.083333</td>\n",
       "      <td>4908.416667</td>\n",
       "      <td>0.321000</td>\n",
       "      <td>0.000116</td>\n",
       "      <td>2.370275e-08</td>\n",
       "    </tr>\n",
       "    <tr>\n",
       "      <th>2</th>\n",
       "      <td>Organic Strawberries</td>\n",
       "      <td>Banana</td>\n",
       "      <td>3439.583333</td>\n",
       "      <td>6133.083333</td>\n",
       "      <td>0.293267</td>\n",
       "      <td>0.000085</td>\n",
       "      <td>1.390202e-08</td>\n",
       "    </tr>\n",
       "    <tr>\n",
       "      <th>3</th>\n",
       "      <td>Organic Avocado</td>\n",
       "      <td>Banana</td>\n",
       "      <td>2273.500000</td>\n",
       "      <td>6133.083333</td>\n",
       "      <td>0.272133</td>\n",
       "      <td>0.000120</td>\n",
       "      <td>1.951677e-08</td>\n",
       "    </tr>\n",
       "    <tr>\n",
       "      <th>4</th>\n",
       "      <td>Organic Baby Spinach</td>\n",
       "      <td>Banana</td>\n",
       "      <td>3125.000000</td>\n",
       "      <td>6133.083333</td>\n",
       "      <td>0.266933</td>\n",
       "      <td>0.000085</td>\n",
       "      <td>1.392752e-08</td>\n",
       "    </tr>\n",
       "    <tr>\n",
       "      <th>5</th>\n",
       "      <td>Cucumber Kirby</td>\n",
       "      <td>Banana</td>\n",
       "      <td>1259.083333</td>\n",
       "      <td>6133.083333</td>\n",
       "      <td>0.167067</td>\n",
       "      <td>0.000133</td>\n",
       "      <td>2.163498e-08</td>\n",
       "    </tr>\n",
       "    <tr>\n",
       "      <th>6</th>\n",
       "      <td>Large Lemon</td>\n",
       "      <td>Banana</td>\n",
       "      <td>1988.250000</td>\n",
       "      <td>6133.083333</td>\n",
       "      <td>0.211533</td>\n",
       "      <td>0.000106</td>\n",
       "      <td>1.734718e-08</td>\n",
       "    </tr>\n",
       "    <tr>\n",
       "      <th>7</th>\n",
       "      <td>Organic Fuji Apple</td>\n",
       "      <td>Banana</td>\n",
       "      <td>1164.250000</td>\n",
       "      <td>6133.083333</td>\n",
       "      <td>0.177167</td>\n",
       "      <td>0.000152</td>\n",
       "      <td>2.481172e-08</td>\n",
       "    </tr>\n",
       "    <tr>\n",
       "      <th>8</th>\n",
       "      <td>Strawberries</td>\n",
       "      <td>Banana</td>\n",
       "      <td>1854.000000</td>\n",
       "      <td>6133.083333</td>\n",
       "      <td>0.215033</td>\n",
       "      <td>0.000116</td>\n",
       "      <td>1.891112e-08</td>\n",
       "    </tr>\n",
       "    <tr>\n",
       "      <th>9</th>\n",
       "      <td>Organic Baby Spinach</td>\n",
       "      <td>Bag of Organic Bananas</td>\n",
       "      <td>3125.000000</td>\n",
       "      <td>4908.416667</td>\n",
       "      <td>0.258333</td>\n",
       "      <td>0.000083</td>\n",
       "      <td>1.684182e-08</td>\n",
       "    </tr>\n",
       "    <tr>\n",
       "      <th>10</th>\n",
       "      <td>Organic Strawberries</td>\n",
       "      <td>Bag of Organic Bananas</td>\n",
       "      <td>3439.583333</td>\n",
       "      <td>4908.416667</td>\n",
       "      <td>0.318700</td>\n",
       "      <td>0.000093</td>\n",
       "      <td>1.887708e-08</td>\n",
       "    </tr>\n",
       "    <tr>\n",
       "      <th>11</th>\n",
       "      <td>Organic Raspberries</td>\n",
       "      <td>Organic Strawberries</td>\n",
       "      <td>1763.916667</td>\n",
       "      <td>3439.583333</td>\n",
       "      <td>0.175400</td>\n",
       "      <td>0.000099</td>\n",
       "      <td>2.890984e-08</td>\n",
       "    </tr>\n",
       "  </tbody>\n",
       "</table>\n",
       "</div>"
      ],
      "text/plain": [
       "               Product_A               Product_B    Support_A    Support_B  \\\n",
       "0    Organic Raspberries  Bag of Organic Bananas  1763.916667  4908.416667   \n",
       "1   Organic Hass Avocado  Bag of Organic Bananas  2759.083333  4908.416667   \n",
       "2   Organic Strawberries                  Banana  3439.583333  6133.083333   \n",
       "3        Organic Avocado                  Banana  2273.500000  6133.083333   \n",
       "4   Organic Baby Spinach                  Banana  3125.000000  6133.083333   \n",
       "5         Cucumber Kirby                  Banana  1259.083333  6133.083333   \n",
       "6            Large Lemon                  Banana  1988.250000  6133.083333   \n",
       "7     Organic Fuji Apple                  Banana  1164.250000  6133.083333   \n",
       "8           Strawberries                  Banana  1854.000000  6133.083333   \n",
       "9   Organic Baby Spinach  Bag of Organic Bananas  3125.000000  4908.416667   \n",
       "10  Organic Strawberries  Bag of Organic Bananas  3439.583333  4908.416667   \n",
       "11   Organic Raspberries    Organic Strawberries  1763.916667  3439.583333   \n",
       "\n",
       "    Support_AB  Confidence_AB       Lift_AB  \n",
       "0     0.207133       0.000117  2.392382e-08  \n",
       "1     0.321000       0.000116  2.370275e-08  \n",
       "2     0.293267       0.000085  1.390202e-08  \n",
       "3     0.272133       0.000120  1.951677e-08  \n",
       "4     0.266933       0.000085  1.392752e-08  \n",
       "5     0.167067       0.000133  2.163498e-08  \n",
       "6     0.211533       0.000106  1.734718e-08  \n",
       "7     0.177167       0.000152  2.481172e-08  \n",
       "8     0.215033       0.000116  1.891112e-08  \n",
       "9     0.258333       0.000083  1.684182e-08  \n",
       "10    0.318700       0.000093  1.887708e-08  \n",
       "11    0.175400       0.000099  2.890984e-08  "
      ]
     },
     "execution_count": 74,
     "metadata": {},
     "output_type": "execute_result"
    }
   ],
   "source": [
    "df_rules_ap"
   ]
  },
  {
   "cell_type": "code",
   "execution_count": 75,
   "id": "69308554-b605-4df4-bdf4-cf7e8e301767",
   "metadata": {},
   "outputs": [
    {
     "data": {
      "text/html": [
       "<div>\n",
       "<style scoped>\n",
       "    .dataframe tbody tr th:only-of-type {\n",
       "        vertical-align: middle;\n",
       "    }\n",
       "\n",
       "    .dataframe tbody tr th {\n",
       "        vertical-align: top;\n",
       "    }\n",
       "\n",
       "    .dataframe thead th {\n",
       "        text-align: right;\n",
       "    }\n",
       "</style>\n",
       "<table border=\"1\" class=\"dataframe\">\n",
       "  <thead>\n",
       "    <tr style=\"text-align: right;\">\n",
       "      <th></th>\n",
       "      <th>Product_A</th>\n",
       "      <th>Product_B</th>\n",
       "      <th>Support_A</th>\n",
       "      <th>Support_B</th>\n",
       "      <th>Support_AB</th>\n",
       "      <th>Confidence_AB</th>\n",
       "      <th>Lift_AB</th>\n",
       "    </tr>\n",
       "  </thead>\n",
       "  <tbody>\n",
       "    <tr>\n",
       "      <th>7</th>\n",
       "      <td>Organic Fuji Apple</td>\n",
       "      <td>Banana</td>\n",
       "      <td>1164.250000</td>\n",
       "      <td>6133.083333</td>\n",
       "      <td>0.177167</td>\n",
       "      <td>0.000152</td>\n",
       "      <td>2.481172e-08</td>\n",
       "    </tr>\n",
       "    <tr>\n",
       "      <th>5</th>\n",
       "      <td>Cucumber Kirby</td>\n",
       "      <td>Banana</td>\n",
       "      <td>1259.083333</td>\n",
       "      <td>6133.083333</td>\n",
       "      <td>0.167067</td>\n",
       "      <td>0.000133</td>\n",
       "      <td>2.163498e-08</td>\n",
       "    </tr>\n",
       "    <tr>\n",
       "      <th>3</th>\n",
       "      <td>Organic Avocado</td>\n",
       "      <td>Banana</td>\n",
       "      <td>2273.500000</td>\n",
       "      <td>6133.083333</td>\n",
       "      <td>0.272133</td>\n",
       "      <td>0.000120</td>\n",
       "      <td>1.951677e-08</td>\n",
       "    </tr>\n",
       "    <tr>\n",
       "      <th>0</th>\n",
       "      <td>Organic Raspberries</td>\n",
       "      <td>Bag of Organic Bananas</td>\n",
       "      <td>1763.916667</td>\n",
       "      <td>4908.416667</td>\n",
       "      <td>0.207133</td>\n",
       "      <td>0.000117</td>\n",
       "      <td>2.392382e-08</td>\n",
       "    </tr>\n",
       "    <tr>\n",
       "      <th>1</th>\n",
       "      <td>Organic Hass Avocado</td>\n",
       "      <td>Bag of Organic Bananas</td>\n",
       "      <td>2759.083333</td>\n",
       "      <td>4908.416667</td>\n",
       "      <td>0.321000</td>\n",
       "      <td>0.000116</td>\n",
       "      <td>2.370275e-08</td>\n",
       "    </tr>\n",
       "    <tr>\n",
       "      <th>8</th>\n",
       "      <td>Strawberries</td>\n",
       "      <td>Banana</td>\n",
       "      <td>1854.000000</td>\n",
       "      <td>6133.083333</td>\n",
       "      <td>0.215033</td>\n",
       "      <td>0.000116</td>\n",
       "      <td>1.891112e-08</td>\n",
       "    </tr>\n",
       "    <tr>\n",
       "      <th>6</th>\n",
       "      <td>Large Lemon</td>\n",
       "      <td>Banana</td>\n",
       "      <td>1988.250000</td>\n",
       "      <td>6133.083333</td>\n",
       "      <td>0.211533</td>\n",
       "      <td>0.000106</td>\n",
       "      <td>1.734718e-08</td>\n",
       "    </tr>\n",
       "    <tr>\n",
       "      <th>11</th>\n",
       "      <td>Organic Raspberries</td>\n",
       "      <td>Organic Strawberries</td>\n",
       "      <td>1763.916667</td>\n",
       "      <td>3439.583333</td>\n",
       "      <td>0.175400</td>\n",
       "      <td>0.000099</td>\n",
       "      <td>2.890984e-08</td>\n",
       "    </tr>\n",
       "    <tr>\n",
       "      <th>10</th>\n",
       "      <td>Organic Strawberries</td>\n",
       "      <td>Bag of Organic Bananas</td>\n",
       "      <td>3439.583333</td>\n",
       "      <td>4908.416667</td>\n",
       "      <td>0.318700</td>\n",
       "      <td>0.000093</td>\n",
       "      <td>1.887708e-08</td>\n",
       "    </tr>\n",
       "    <tr>\n",
       "      <th>4</th>\n",
       "      <td>Organic Baby Spinach</td>\n",
       "      <td>Banana</td>\n",
       "      <td>3125.000000</td>\n",
       "      <td>6133.083333</td>\n",
       "      <td>0.266933</td>\n",
       "      <td>0.000085</td>\n",
       "      <td>1.392752e-08</td>\n",
       "    </tr>\n",
       "    <tr>\n",
       "      <th>2</th>\n",
       "      <td>Organic Strawberries</td>\n",
       "      <td>Banana</td>\n",
       "      <td>3439.583333</td>\n",
       "      <td>6133.083333</td>\n",
       "      <td>0.293267</td>\n",
       "      <td>0.000085</td>\n",
       "      <td>1.390202e-08</td>\n",
       "    </tr>\n",
       "    <tr>\n",
       "      <th>9</th>\n",
       "      <td>Organic Baby Spinach</td>\n",
       "      <td>Bag of Organic Bananas</td>\n",
       "      <td>3125.000000</td>\n",
       "      <td>4908.416667</td>\n",
       "      <td>0.258333</td>\n",
       "      <td>0.000083</td>\n",
       "      <td>1.684182e-08</td>\n",
       "    </tr>\n",
       "  </tbody>\n",
       "</table>\n",
       "</div>"
      ],
      "text/plain": [
       "               Product_A               Product_B    Support_A    Support_B  \\\n",
       "7     Organic Fuji Apple                  Banana  1164.250000  6133.083333   \n",
       "5         Cucumber Kirby                  Banana  1259.083333  6133.083333   \n",
       "3        Organic Avocado                  Banana  2273.500000  6133.083333   \n",
       "0    Organic Raspberries  Bag of Organic Bananas  1763.916667  4908.416667   \n",
       "1   Organic Hass Avocado  Bag of Organic Bananas  2759.083333  4908.416667   \n",
       "8           Strawberries                  Banana  1854.000000  6133.083333   \n",
       "6            Large Lemon                  Banana  1988.250000  6133.083333   \n",
       "11   Organic Raspberries    Organic Strawberries  1763.916667  3439.583333   \n",
       "10  Organic Strawberries  Bag of Organic Bananas  3439.583333  4908.416667   \n",
       "4   Organic Baby Spinach                  Banana  3125.000000  6133.083333   \n",
       "2   Organic Strawberries                  Banana  3439.583333  6133.083333   \n",
       "9   Organic Baby Spinach  Bag of Organic Bananas  3125.000000  4908.416667   \n",
       "\n",
       "    Support_AB  Confidence_AB       Lift_AB  \n",
       "7     0.177167       0.000152  2.481172e-08  \n",
       "5     0.167067       0.000133  2.163498e-08  \n",
       "3     0.272133       0.000120  1.951677e-08  \n",
       "0     0.207133       0.000117  2.392382e-08  \n",
       "1     0.321000       0.000116  2.370275e-08  \n",
       "8     0.215033       0.000116  1.891112e-08  \n",
       "6     0.211533       0.000106  1.734718e-08  \n",
       "11    0.175400       0.000099  2.890984e-08  \n",
       "10    0.318700       0.000093  1.887708e-08  \n",
       "4     0.266933       0.000085  1.392752e-08  \n",
       "2     0.293267       0.000085  1.390202e-08  \n",
       "9     0.258333       0.000083  1.684182e-08  "
      ]
     },
     "execution_count": 75,
     "metadata": {},
     "output_type": "execute_result"
    }
   ],
   "source": [
    "# Ordenando pela Confidence\n",
    "df_rules_ap.sort_values(by = 'Confidence_AB', ascending = False)"
   ]
  },
  {
   "cell_type": "markdown",
   "id": "0e4cbed2-4f2c-45c8-8a69-2b8f8bd7e834",
   "metadata": {},
   "source": [
    "## Conclusão\n",
    "\n",
    "Aplicando Matemática e Estatística via programação executamos uma análise de MBA gerando como resultado as regras de associação entre os produtos com diferentes métricas.\n",
    "\n"
   ]
  },
  {
   "cell_type": "code",
   "execution_count": 76,
   "id": "f6cf524e-893d-43ec-bbc1-bf800bd47b4f",
   "metadata": {},
   "outputs": [
    {
     "name": "stdout",
     "output_type": "stream",
     "text": [
      "Author: Guilherme\n",
      "\n",
      "missingno        : 0.5.2\n",
      "numpy            : 1.26.4\n",
      "tqdm             : 4.66.5\n",
      "efficient_apriori: 2.0.6\n",
      "matplotlib       : 3.9.2\n",
      "pandas           : 2.2.2\n",
      "\n"
     ]
    }
   ],
   "source": [
    "%reload_ext watermark\n",
    "%watermark -a \"Guilherme\"\n",
    "%watermark --iversion"
   ]
  },
  {
   "cell_type": "code",
   "execution_count": null,
   "id": "3da889d5-9c41-4b12-ab2d-4b5801bfa775",
   "metadata": {},
   "outputs": [],
   "source": []
  }
 ],
 "metadata": {
  "kernelspec": {
   "display_name": "Python 3 (ipykernel)",
   "language": "python",
   "name": "python3"
  },
  "language_info": {
   "codemirror_mode": {
    "name": "ipython",
    "version": 3
   },
   "file_extension": ".py",
   "mimetype": "text/x-python",
   "name": "python",
   "nbconvert_exporter": "python",
   "pygments_lexer": "ipython3",
   "version": "3.12.7"
  }
 },
 "nbformat": 4,
 "nbformat_minor": 5
}
